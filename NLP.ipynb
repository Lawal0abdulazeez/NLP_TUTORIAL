{
 "cells": [
  {
   "cell_type": "markdown",
   "metadata": {},
   "source": [
    "# **📌 Module 1: Introduction to NLP**"
   ]
  },
  {
   "cell_type": "markdown",
   "metadata": {},
   "source": [
    "### **Objective:**\n",
    "- Understand what NLP is and why it's important\n",
    "- Learn real-world applications of NLP\n",
    "- Get hands-on experience with basic text processing using Python"
   ]
  },
  {
   "cell_type": "markdown",
   "metadata": {},
   "source": [
    "## **🚀 1. What is NLP?**\n",
    "**Theory**\n",
    "\n",
    "Natural Language Processing (NLP) is a branch of Artificial Intelligence (AI) that helps computers understand, interpret, and generate human language.\n",
    "\n",
    "**Why is NLP important?**\n",
    "\n",
    "Humans communicate using natural language (English, French, Yoruba, etc.), but computers understand only numbers. NLP acts as a bridge between human language and machine language by converting text into something a computer can process.\n",
    "\n",
    "**Real-world Applications of NLP**\n",
    "- Virtual Assistants: Siri, Google Assistant, Alexa\n",
    "- Chatbots: Customer support bots (e.g., ChatGPT)\n",
    "- Sentiment Analysis: Detecting emotions in tweets, reviews, or news\n",
    "- Machine Translation: Google Translate\n",
    "- Speech Recognition: Converting speech to text (YouTube captions, Google Voice)"
   ]
  },
  {
   "cell_type": "markdown",
   "metadata": {},
   "source": [
    "## **🛠 2. Setting Up Your Environment**\n",
    "\n",
    "Before diving into coding, we need to install some essential libraries. Run the following in a Jupyter Notebook or a Python script:"
   ]
  },
  {
   "cell_type": "code",
   "execution_count": null,
   "metadata": {},
   "outputs": [],
   "source": [
    "# !pip install nltk spacy textblob # Install the necessary packages"
   ]
  },
  {
   "cell_type": "markdown",
   "metadata": {},
   "source": [
    "## **📖 3. Basic Text Processing in NLP**\n",
    "We'll now introduce fundamental text processing techniques with both theory and practical code examples.\n"
   ]
  },
  {
   "cell_type": "markdown",
   "metadata": {},
   "source": [
    "\n",
    "### **📝 3.1 Tokenization**\n",
    "**Theory:**\n",
    "\n",
    "Tokenization is the process of breaking a sentence into individual words (word tokenization) or breaking a paragraph into individual sentences (sentence tokenization)."
   ]
  },
  {
   "cell_type": "code",
   "execution_count": 2,
   "metadata": {},
   "outputs": [
    {
     "name": "stdout",
     "output_type": "stream",
     "text": [
      "Word Tokenization: ['Hello', 'students', '!', 'Welcome', 'to', 'Natural', 'Language', 'Processing', '.', 'NLP', 'is', 'amazing', '.']\n",
      "Sentence Tokenization: ['Hello students!', 'Welcome to Natural Language Processing.', 'NLP is amazing.']\n"
     ]
    },
    {
     "name": "stderr",
     "output_type": "stream",
     "text": [
      "[nltk_data] Downloading package punkt to\n",
      "[nltk_data]     C:\\Users\\DELL\\AppData\\Roaming\\nltk_data...\n",
      "[nltk_data]   Package punkt is already up-to-date!\n"
     ]
    }
   ],
   "source": [
    "import nltk\n",
    "from nltk.tokenize import word_tokenize, sent_tokenize\n",
    "\n",
    "nltk.download('punkt')  # Download required dataset\n",
    "\n",
    "text = \"Hello students! Welcome to Natural Language Processing. NLP is amazing.\"\n",
    "\n",
    "# Word Tokenization\n",
    "words = word_tokenize(text)\n",
    "print(\"Word Tokenization:\", words)\n",
    "\n",
    "# Sentence Tokenization\n",
    "sentences = sent_tokenize(text)\n",
    "print(\"Sentence Tokenization:\", sentences)\n"
   ]
  },
  {
   "cell_type": "markdown",
   "metadata": {},
   "source": [
    "**🔹 Explanation:**\n",
    "\n",
    "- word_tokenize(text): Breaks text into words\n",
    "- sent_tokenize(text): Breaks text into sentences"
   ]
  },
  {
   "cell_type": "markdown",
   "metadata": {},
   "source": [
    "### **📝 3.2 Removing Stopwords**\n",
    "**Theory:**\n",
    "\n",
    "Stopwords are common words (like \"the\", \"is\", \"in\") that do not contribute to the meaning of the sentence."
   ]
  },
  {
   "cell_type": "code",
   "execution_count": 3,
   "metadata": {},
   "outputs": [
    {
     "name": "stdout",
     "output_type": "stream",
     "text": [
      "Filtered Words (No Stopwords): ['Hello', 'students', '!', 'Welcome', 'Natural', 'Language', 'Processing', '.', 'NLP', 'amazing', '.']\n"
     ]
    },
    {
     "name": "stderr",
     "output_type": "stream",
     "text": [
      "[nltk_data] Downloading package stopwords to\n",
      "[nltk_data]     C:\\Users\\DELL\\AppData\\Roaming\\nltk_data...\n",
      "[nltk_data]   Package stopwords is already up-to-date!\n"
     ]
    }
   ],
   "source": [
    "from nltk.corpus import stopwords\n",
    "\n",
    "nltk.download('stopwords')\n",
    "\n",
    "stop_words = set(stopwords.words('english'))\n",
    "filtered_words = [word for word in words if word.lower() not in stop_words]\n",
    "\n",
    "print(\"Filtered Words (No Stopwords):\", filtered_words)\n"
   ]
  },
  {
   "cell_type": "markdown",
   "metadata": {},
   "source": [
    "**🔹 Explanation:**\n",
    "\n",
    "- stopwords.words('english') provides a list of common stopwords\n",
    "- We remove them from our tokenized words"
   ]
  },
  {
   "cell_type": "markdown",
   "metadata": {},
   "source": [
    "### **📝 3.3 Stemming and Lemmatization**\n",
    "\n",
    "**Theory:**\n",
    "- Stemming: Reduces words to their root form (e.g., \"running\" → \"run\")\n",
    "- Lemmatization: Similar to stemming but ensures words remain meaningful"
   ]
  },
  {
   "cell_type": "code",
   "execution_count": 14,
   "metadata": {},
   "outputs": [
    {
     "name": "stdout",
     "output_type": "stream",
     "text": [
      "Stemmed Word: run\n",
      "Lemmatized Word: run\n"
     ]
    },
    {
     "name": "stderr",
     "output_type": "stream",
     "text": [
      "[nltk_data] Downloading package wordnet to\n",
      "[nltk_data]     C:\\Users\\DELL\\AppData\\Roaming\\nltk_data...\n",
      "[nltk_data]   Package wordnet is already up-to-date!\n"
     ]
    }
   ],
   "source": [
    "from nltk.stem import PorterStemmer, WordNetLemmatizer\n",
    "\n",
    "nltk.download('wordnet')\n",
    "\n",
    "stemmer = PorterStemmer()\n",
    "lemmatizer = WordNetLemmatizer()\n",
    "\n",
    "word = \"running\"\n",
    "\n",
    "print(\"Stemmed Word:\", stemmer.stem(word))  # Output: run\n",
    "print(\"Lemmatized Word:\", lemmatizer.lemmatize(word, pos='v'))  # Output: run\n"
   ]
  },
  {
   "cell_type": "markdown",
   "metadata": {},
   "source": [
    "**🔹 Explanation:**\n",
    "\n",
    "- Stemming just removes suffixes (e.g., \"ing\", \"ed\")\n",
    "- Lemmatization considers meaning and context (e.g., \"better\" → \"good\")"
   ]
  },
  {
   "cell_type": "markdown",
   "metadata": {},
   "source": [
    "### **📝 3.4 Part-of-Speech (POS) Tagging**\n",
    "**Theory:**\n",
    "\n",
    "POS tagging assigns a grammatical category to words (noun, verb, adjective, etc.)"
   ]
  },
  {
   "cell_type": "code",
   "execution_count": 15,
   "metadata": {},
   "outputs": [
    {
     "name": "stderr",
     "output_type": "stream",
     "text": [
      "[nltk_data] Downloading package averaged_perceptron_tagger to\n",
      "[nltk_data]     C:\\Users\\DELL\\AppData\\Roaming\\nltk_data...\n",
      "[nltk_data]   Unzipping taggers\\averaged_perceptron_tagger.zip.\n"
     ]
    },
    {
     "name": "stdout",
     "output_type": "stream",
     "text": [
      "POS Tags: [('Hello', 'JJ'), ('students', 'NNS'), ('!', '.'), ('Welcome', 'NNP'), ('to', 'TO'), ('Natural', 'NNP'), ('Language', 'NNP'), ('Processing', 'NNP'), ('.', '.'), ('NLP', 'NNP'), ('is', 'VBZ'), ('amazing', 'JJ'), ('.', '.')]\n"
     ]
    }
   ],
   "source": [
    "from nltk import pos_tag\n",
    "\n",
    "nltk.download('averaged_perceptron_tagger')\n",
    "\n",
    "pos_tags = pos_tag(words)\n",
    "print(\"POS Tags:\", pos_tags)\n"
   ]
  },
  {
   "cell_type": "markdown",
   "metadata": {},
   "source": [
    "**🔹 Explanation:**\n",
    "\n",
    "Tags words as Noun (NN), Verb (VB), Adjective (JJ), etc."
   ]
  },
  {
   "cell_type": "markdown",
   "metadata": {},
   "source": [
    "## **💡 4. Mini Project: Basic NLP Pipeline**\n",
    "\n",
    "Now, let's put everything together into a simple NLP text pre-processing pipeline."
   ]
  },
  {
   "cell_type": "code",
   "execution_count": 16,
   "metadata": {},
   "outputs": [
    {
     "name": "stdout",
     "output_type": "stream",
     "text": [
      "Words: ['NLP', 'is', 'an', 'interesting', 'field', 'of', 'AI', '.', 'It', 'helps', 'machines', 'understand', 'human', 'language', '.']\n",
      "Sentences: ['NLP is an interesting field of AI.', 'It helps machines understand human language.']\n",
      "Filtered Words: ['NLP', 'interesting', 'field', 'AI', '.', 'helps', 'machines', 'understand', 'human', 'language', '.']\n",
      "Stemmed Words: ['nlp', 'interest', 'field', 'ai', '.', 'help', 'machin', 'understand', 'human', 'languag', '.']\n",
      "Lemmatized Words: ['NLP', 'interest', 'field', 'AI', '.', 'help', 'machine', 'understand', 'human', 'language', '.']\n",
      "POS Tags: [('NLP', 'NNP'), ('interesting', 'JJ'), ('field', 'NN'), ('AI', 'NNP'), ('.', '.'), ('helps', 'VBZ'), ('machines', 'NNS'), ('understand', 'JJ'), ('human', 'JJ'), ('language', 'NN'), ('.', '.')]\n"
     ]
    }
   ],
   "source": [
    "# Import necessary libraries\n",
    "import nltk \n",
    "from nltk.tokenize import word_tokenize, sent_tokenize\n",
    "from nltk.corpus import stopwords\n",
    "from nltk.stem import PorterStemmer, WordNetLemmatizer\n",
    "from nltk import pos_tag\n",
    "\n",
    "# Download required datasets\n",
    "#nltk.download('punkt')\n",
    "#nltk.download('stopwords')\n",
    "#nltk.download('wordnet')\n",
    "#nltk.download('averaged_perceptron_tagger')\n",
    "\n",
    "# Sample text \n",
    "text = \"NLP is an interesting field of AI. It helps machines understand human language.\"\n",
    "\n",
    "# 1. Tokenization\n",
    "words = word_tokenize(text)\n",
    "sentences = sent_tokenize(text)\n",
    "print(\"Words:\", words)\n",
    "print(\"Sentences:\", sentences)\n",
    "\n",
    "# 2. Removing Stopwords\n",
    "filtered_words = [word for word in words if word.lower() not in stopwords.words('english')]\n",
    "print(\"Filtered Words:\", filtered_words)\n",
    "\n",
    "# 3. Stemming & Lemmatization\n",
    "stemmer = PorterStemmer()\n",
    "lemmatizer = WordNetLemmatizer()\n",
    "\n",
    "stemmed_words = [stemmer.stem(word) for word in filtered_words]\n",
    "lemmatized_words = [lemmatizer.lemmatize(word, pos='v') for word in filtered_words]\n",
    "\n",
    "print(\"Stemmed Words:\", stemmed_words)\n",
    "print(\"Lemmatized Words:\", lemmatized_words)\n",
    "\n",
    "# 4. POS Tagging\n",
    "pos_tags = pos_tag(filtered_words)\n",
    "print(\"POS Tags:\", pos_tags)\n"
   ]
  },
  {
   "cell_type": "markdown",
   "metadata": {},
   "source": [
    "## **🎯 5. Assignment for Students**\n",
    "To reinforce learning, ask students to:\n",
    "\n",
    "1️⃣ Modify the text in the pipeline and observe the outputs\n",
    "\n",
    "2️⃣ Try another NLP library like spaCy for tokenization and POS tagging\n",
    "\n",
    "3️⃣ Apply stemming and lemmatization to different words"
   ]
  },
  {
   "cell_type": "markdown",
   "metadata": {},
   "source": [
    "# **📌 Module 2: Text Cleaning and Preprocessing**"
   ]
  },
  {
   "cell_type": "markdown",
   "metadata": {},
   "source": [
    "**Objective:**\n",
    "\n",
    "- Understand the importance of text cleaning in NLP\n",
    "- Learn how to remove noise, special characters, and perform text normalization\n",
    "- Get hands-on experience with regular expressions (RegEx) and text preprocessing in Python"
   ]
  },
  {
   "cell_type": "markdown",
   "metadata": {},
   "source": [
    "## **🚀 1. Why is Text Cleaning Important?**\n",
    "\n",
    "**Theory**\n",
    "\n",
    "Raw text data is often noisy and unstructured. Before applying NLP models, we need to clean and normalize the text to improve accuracy and efficiency.\n",
    "\n",
    "**Common Issues in Text Data**\n",
    "\n",
    "❌ Special characters (@, #, $, &, etc.)\n",
    "\n",
    "❌ Punctuation (., ,, !, ?, etc.)\n",
    "\n",
    "❌ Numbers (e.g., 12345)\n",
    "\n",
    "❌ Extra whitespaces\n",
    "\n",
    "❌ Case sensitivity (e.g., Apple vs apple)\n",
    "\n",
    "❌ URLs and Email Addresses\n",
    "\n",
    "❌ Emojis and emoticons (😊, :-) )\n",
    "\n",
    "❌ Incorrect spelling\n",
    "\n"
   ]
  },
  {
   "cell_type": "markdown",
   "metadata": {},
   "source": [
    "### **🛠 2. Setting Up for Text Cleaning**\n",
    "\n",
    "Before we start, let’s install additional dependencies:"
   ]
  },
  {
   "cell_type": "code",
   "execution_count": 1,
   "metadata": {},
   "outputs": [],
   "source": [
    "# !pip install re emoji"
   ]
  },
  {
   "cell_type": "markdown",
   "metadata": {},
   "source": [
    "## **📖 3. Basic Text Cleaning Techniques**\n",
    "\n",
    "Let’s go through text cleaning step by step.\n",
    "\n",
    "### **📝 3.1 Lowercasing**\n",
    "**Theory:**\n",
    "\n",
    "Converting text to lowercase ensures uniformity (e.g., \"Python\" and \"python\" are treated the same)."
   ]
  },
  {
   "cell_type": "code",
   "execution_count": 1,
   "metadata": {},
   "outputs": [
    {
     "name": "stdout",
     "output_type": "stream",
     "text": [
      "natural language processing is fun!\n"
     ]
    }
   ],
   "source": [
    "text = \"Natural Language Processing is FUN!\"\n",
    "clean_text = text.lower()\n",
    "print(clean_text)  # Output: natural language processing is fun!\n"
   ]
  },
  {
   "cell_type": "markdown",
   "metadata": {},
   "source": [
    "## **📝 3.2 Removing Punctuation**\n",
    "\n",
    "**Theory:**\n",
    "\n",
    "Punctuation marks do not contribute to text meaning in most NLP tasks.\n"
   ]
  },
  {
   "cell_type": "code",
   "execution_count": 2,
   "metadata": {},
   "outputs": [
    {
     "name": "stdout",
     "output_type": "stream",
     "text": [
      "Hello NLP Lets remove punctuations \n"
     ]
    }
   ],
   "source": [
    "import string\n",
    "\n",
    "text = \"Hello, NLP! Let's remove punctuations: @#&.\"\n",
    "clean_text = text.translate(str.maketrans('', '', string.punctuation))\n",
    "print(clean_text)  # Output: Hello NLP Lets remove punctuations\n"
   ]
  },
  {
   "cell_type": "markdown",
   "metadata": {},
   "source": [
    "### **📝 3.3 Removing Numbers**\n",
    "\n",
    "**Theory:**\n",
    "\n",
    "Numbers can be irrelevant in some NLP tasks (e.g., sentiment analysis)."
   ]
  },
  {
   "cell_type": "code",
   "execution_count": 3,
   "metadata": {},
   "outputs": [
    {
     "name": "stdout",
     "output_type": "stream",
     "text": [
      "My phone number is  and I have  apples.\n"
     ]
    }
   ],
   "source": [
    "import re\n",
    "\n",
    "text = \"My phone number is 08100001111 and I have 10 apples.\"\n",
    "clean_text = re.sub(r'\\d+', '', text)\n",
    "print(clean_text)  # Output: My phone number is  and I have  apples.\n"
   ]
  },
  {
   "cell_type": "markdown",
   "metadata": {},
   "source": [
    "### **📝 3.4 Removing Extra Whitespaces**\n",
    "\n",
    "**Theory:**\n",
    "\n",
    "Multiple spaces between words are unnecessary and should be reduced to a single space."
   ]
  },
  {
   "cell_type": "code",
   "execution_count": 4,
   "metadata": {},
   "outputs": [
    {
     "name": "stdout",
     "output_type": "stream",
     "text": [
      "This is NLP with extra spaces.\n"
     ]
    }
   ],
   "source": [
    "text = \"This   is   NLP   with    extra    spaces.\"\n",
    "clean_text = re.sub(r'\\s+', ' ', text).strip()\n",
    "print(clean_text)  # Output: This is NLP with extra spaces.\n"
   ]
  },
  {
   "cell_type": "markdown",
   "metadata": {},
   "source": [
    "### **📝 3.5 Removing Special Characters**\n",
    "\n",
    "**Theory:**\n",
    "\n",
    "Characters like @, #, &, and * are often not useful in NLP tasks."
   ]
  },
  {
   "cell_type": "code",
   "execution_count": 5,
   "metadata": {},
   "outputs": [
    {
     "name": "stdout",
     "output_type": "stream",
     "text": [
      "Follow us NLPProject AI  Machine Learning\n"
     ]
    }
   ],
   "source": [
    "text = \"Follow us @NLP_Project #AI & Machine Learning!\"\n",
    "clean_text = re.sub(r'[^a-zA-Z0-9\\s]', '', text)\n",
    "print(clean_text)  # Output: Follow us NLPProject AI Machine Learning\n"
   ]
  },
  {
   "cell_type": "markdown",
   "metadata": {},
   "source": [
    "### **📝 3.6 Removing URLs and Email Addresses**\n",
    "\n",
    "**Theory:**\n",
    "\n",
    "Links and emails can be noisy and are usually not useful."
   ]
  },
  {
   "cell_type": "code",
   "execution_count": 6,
   "metadata": {},
   "outputs": [
    {
     "name": "stdout",
     "output_type": "stream",
     "text": [
      "Check out our website:  or email me at test\n"
     ]
    }
   ],
   "source": [
    "text = \"Check out our website: https://www.example.com or email me at test@example.com.\"\n",
    "clean_text = re.sub(r'http\\S+|www\\S+|@\\S+', '', text)\n",
    "print(clean_text)  # Output: Check out our website:  or email me at .\n"
   ]
  },
  {
   "cell_type": "markdown",
   "metadata": {},
   "source": [
    "### **📝 3.7 Removing Emojis**\n",
    "\n",
    "**Theory:**\n",
    "\n",
    "Emojis can add sentiment but may not always be useful for NLP models."
   ]
  },
  {
   "cell_type": "code",
   "execution_count": 7,
   "metadata": {},
   "outputs": [
    {
     "name": "stdout",
     "output_type": "stream",
     "text": [
      "I love NLP! \n"
     ]
    }
   ],
   "source": [
    "import emoji\n",
    "\n",
    "text = \"I love NLP! 😍💡🔥\"\n",
    "clean_text = emoji.replace_emoji(text, replace=\"\")\n",
    "print(clean_text)  # Output: I love NLP!\n"
   ]
  },
  {
   "cell_type": "markdown",
   "metadata": {},
   "source": [
    "### **📝 3.8 Spell Checking and Correction**\n",
    "**Theory:**\n",
    "\n",
    "Misspelled words can affect NLP models negatively. We can use TextBlob for spelling correction."
   ]
  },
  {
   "cell_type": "code",
   "execution_count": 8,
   "metadata": {},
   "outputs": [
    {
     "name": "stdout",
     "output_type": "stream",
     "text": [
      "Natural Language Processing is amazing!\n"
     ]
    }
   ],
   "source": [
    "from textblob import TextBlob\n",
    "\n",
    "text = \"Natrual Langage Procesing is amazng!\"\n",
    "corrected_text = TextBlob(text).correct()\n",
    "print(corrected_text)  # Output: Natural Language Processing is amazing!\n"
   ]
  },
  {
   "cell_type": "markdown",
   "metadata": {},
   "source": [
    "## **💡 4. Mini Project: Full Text Cleaning Pipeline**\n",
    "\n",
    "Now, let’s combine all these steps into a single text-cleaning function."
   ]
  },
  {
   "cell_type": "code",
   "execution_count": null,
   "metadata": {},
   "outputs": [
    {
     "name": "stdout",
     "output_type": "stream",
     "text": [
      "natural language processing is amazing visit\n"
     ]
    }
   ],
   "source": [
    "import re\n",
    "import string\n",
    "import emoji\n",
    "from textblob import TextBlob\n",
    "\n",
    "def clean_text(text):\n",
    "    text = text.lower()  # Lowercasing\n",
    "    text = re.sub(r'http\\S+|www\\S+|@\\S+', '', text)  # Remove URLs and emails\n",
    "    text = text.translate(str.maketrans('', '', string.punctuation))  # Remove punctuation\n",
    "    text = re.sub(r'\\d+', '', text)  # Remove numbers\n",
    "    text = re.sub(r'\\s+', ' ', text).strip()  # Remove extra whitespaces\n",
    "    text = emoji.replace_emoji(text, replace=\"\")  # Remove emojis\n",
    "    text = ' '.join([word for word in text.split() if word.isalpha()])  # Remove special characters\n",
    "    text = str(TextBlob(text).correct())  # Correct spelling\n",
    "    return text\n",
    "\n",
    "# Test the function\n",
    "sample_text = \"Natrual Langage Procesing is amazng! Visit https://example.com 🚀🔥\"\n",
    "cleaned_text = clean_text(sample_text)\n",
    "print(cleaned_text)"
   ]
  },
  {
   "cell_type": "markdown",
   "metadata": {},
   "source": [
    "## **🎯 5. Assignment for Students**\n",
    "\n",
    "To reinforce learning, ask students to:\n",
    "\n",
    "1️⃣ Use the function on different noisy text samples\n",
    "\n",
    "2️⃣ Modify the function to include additional cleaning steps\n",
    "\n",
    "3️⃣ Use another spell checker like pyspellchecker instead of TextBlob"
   ]
  },
  {
   "cell_type": "markdown",
   "metadata": {},
   "source": [
    "# **📌 Module 3: Text Representation & Feature Engineering**\n",
    "\n",
    "**Objective:**\n",
    "- Understand how to convert text data into a numerical format for ML models\n",
    "- Learn different text vectorization techniques (Bag of Words, TF-IDF, Word Embeddings)\n",
    "- Implement practical examples using Python"
   ]
  },
  {
   "cell_type": "markdown",
   "metadata": {},
   "source": [
    "## **🚀 1. Why Do We Need Text Representation?**\n",
    "\n",
    "**Theory**\n",
    "\n",
    "Machines cannot understand raw text directly. Text representation converts text into numerical data that models can process.\n",
    "\n",
    "🔹 Example Problem:\n",
    "\n",
    "\"The cat sat on the mat.\"\n",
    "\n",
    "A machine cannot interpret this sentence unless we convert it into numbers.\n",
    "\n",
    "There are different methods for this:\n",
    "\n",
    "1️⃣ Bag of Words (BoW)\n",
    "\n",
    "2️⃣ TF-IDF (Term Frequency-Inverse Document Frequency)\n",
    "\n",
    "3️⃣ Word Embeddings (Word2Vec, GloVe, FastText, BERT, etc.)"
   ]
  },
  {
   "cell_type": "markdown",
   "metadata": {},
   "source": [
    "## **🛠 2. Bag of Words (BoW)**\n",
    "\n",
    "### **📝 2.1 How Does It Work?**\n",
    "\n",
    "- Counts the occurrence of words in a document\n",
    "- Ignores the order of words\n",
    "- Creates a sparse matrix representation\n",
    "\n",
    "**Example:**\n",
    "\n",
    "**Corpus:**\n",
    "\n",
    "1️⃣ \"The cat sat on the mat.\"\n",
    "\n",
    "2️⃣ \"The dog barked at the cat.\"\n"
   ]
  },
  {
   "cell_type": "raw",
   "metadata": {},
   "source": [
    "\n",
    "the\tcat\tsat\ton\tmat\tdog\tbarked\tat\n",
    "1\t1\t1\t1\t1\t1\t0\t0\t0\n",
    "2\t1\t1\t0\t0\t0\t1\t1\t1"
   ]
  },
  {
   "cell_type": "markdown",
   "metadata": {},
   "source": [
    "**🛠 Code Example: Implementing BoW with Scikit-Learn**"
   ]
  },
  {
   "cell_type": "code",
   "execution_count": 10,
   "metadata": {},
   "outputs": [
    {
     "name": "stdout",
     "output_type": "stream",
     "text": [
      "['at' 'barked' 'cat' 'dog' 'mat' 'on' 'sat' 'the']\n",
      "[[0 0 1 0 1 1 1 2]\n",
      " [1 1 1 1 0 0 0 2]]\n"
     ]
    }
   ],
   "source": [
    "from sklearn.feature_extraction.text import CountVectorizer\n",
    "\n",
    "corpus = [\n",
    "    \"The cat sat on the mat.\",\n",
    "    \"The dog barked at the cat.\"\n",
    "]\n",
    "\n",
    "vectorizer = CountVectorizer()\n",
    "X = vectorizer.fit_transform(corpus)\n",
    "\n",
    "print(vectorizer.get_feature_names_out())  # Show feature words\n",
    "print(X.toarray())  # Show numerical representation\n"
   ]
  },
  {
   "cell_type": "markdown",
   "metadata": {},
   "source": [
    "✅ Pros: Simple and interpretable\n",
    "\n",
    "❌ Cons: Ignores context, produces large sparse matrices"
   ]
  },
  {
   "cell_type": "markdown",
   "metadata": {},
   "source": [
    "## **📌 3. TF-IDF (Term Frequency-Inverse Document Frequency)**\n",
    "\n",
    "### **📝 3.1 How Does It Work?**\n",
    "\n",
    "TF-IDF scores words based on their importance.\n",
    "\n",
    "**Formula:**\n",
    "\n",
    "            TF−IDF=TF×IDF\n",
    "\n",
    "**Where:**\n",
    "\n",
    "- TF (Term Frequency) = Number of times a word appears in a document\n",
    "- IDF (Inverse Document Frequency) = Measures how rare a word is across all documents\n",
    "\n",
    "🔹 Example: Common words like \"the\" have lower TF-IDF scores, while unique words like \"barked\" have higher scores."
   ]
  },
  {
   "cell_type": "markdown",
   "metadata": {},
   "source": [
    "**🛠 Code Example: Implementing TF-IDF with Scikit-Learn**"
   ]
  },
  {
   "cell_type": "code",
   "execution_count": 11,
   "metadata": {},
   "outputs": [
    {
     "name": "stdout",
     "output_type": "stream",
     "text": [
      "['at' 'barked' 'cat' 'dog' 'mat' 'on' 'sat' 'the']\n",
      "[[0.         0.         0.30253071 0.         0.42519636 0.42519636\n",
      "  0.42519636 0.60506143]\n",
      " [0.42519636 0.42519636 0.30253071 0.42519636 0.         0.\n",
      "  0.         0.60506143]]\n"
     ]
    }
   ],
   "source": [
    "from sklearn.feature_extraction.text import TfidfVectorizer\n",
    "\n",
    "vectorizer = TfidfVectorizer()\n",
    "X = vectorizer.fit_transform(corpus)\n",
    "\n",
    "print(vectorizer.get_feature_names_out())  # Show feature words\n",
    "print(X.toarray())  # Show numerical representation\n"
   ]
  },
  {
   "cell_type": "markdown",
   "metadata": {},
   "source": [
    "✅ Pros: Reduces importance of common words like \"the\"\n",
    "\n",
    "❌ Cons: Still lacks contextual understanding\n",
    "\n"
   ]
  },
  {
   "cell_type": "markdown",
   "metadata": {},
   "source": [
    "## **📌 4. Word Embeddings (Word2Vec, GloVe, FastText)**\n",
    "\n",
    "### **📝 4.1 How Do Word Embeddings Work?**\n",
    "\n",
    "Unlike BoW and TF-IDF, word embeddings capture meaning. They represent words as dense vectors where words with similar meanings have similar vector representations.\n",
    "\n",
    "\n",
    "**🔹 Example:**\n",
    "\n",
    "📝 \"King - Man + Woman = Queen\"\n",
    "\n",
    "(Word embeddings understand relationships between words!)\n",
    "\n",
    "**📝 4.2 Types of Word Embeddings**\n",
    "\n",
    "1️⃣ Word2Vec (Google) – Learns word meanings from context\n",
    "\n",
    "2️⃣ GloVe (Stanford) – Captures global word relationships\n",
    "\n",
    "3️⃣ FastText (Facebook) – Works well with rare words"
   ]
  },
  {
   "cell_type": "markdown",
   "metadata": {},
   "source": [
    "**🛠 Code Example: Implementing Word2Vec**"
   ]
  },
  {
   "cell_type": "code",
   "execution_count": 16,
   "metadata": {},
   "outputs": [
    {
     "name": "stdout",
     "output_type": "stream",
     "text": [
      "Defaulting to user installation because normal site-packages is not writeable\n",
      "Requirement already satisfied: gensim in c:\\programdata\\anaconda3\\lib\\site-packages (4.3.2)\n",
      "Collecting gensim\n",
      "  Downloading gensim-4.3.3-cp312-cp312-win_amd64.whl.metadata (8.2 kB)\n",
      "Requirement already satisfied: nltk in c:\\users\\dell\\appdata\\roaming\\python\\python312\\site-packages (3.9.1)\n",
      "Requirement already satisfied: numpy<2.0,>=1.18.5 in c:\\programdata\\anaconda3\\lib\\site-packages (from gensim) (1.26.4)\n",
      "Requirement already satisfied: scipy<1.14.0,>=1.7.0 in c:\\programdata\\anaconda3\\lib\\site-packages (from gensim) (1.13.1)\n",
      "Requirement already satisfied: smart-open>=1.8.1 in c:\\programdata\\anaconda3\\lib\\site-packages (from gensim) (5.2.1)\n",
      "Requirement already satisfied: click in c:\\programdata\\anaconda3\\lib\\site-packages (from nltk) (8.1.7)\n",
      "Requirement already satisfied: joblib in c:\\programdata\\anaconda3\\lib\\site-packages (from nltk) (1.4.2)\n",
      "Requirement already satisfied: regex>=2021.8.3 in c:\\programdata\\anaconda3\\lib\\site-packages (from nltk) (2023.10.3)\n",
      "Requirement already satisfied: tqdm in c:\\programdata\\anaconda3\\lib\\site-packages (from nltk) (4.66.4)\n",
      "Requirement already satisfied: colorama in c:\\programdata\\anaconda3\\lib\\site-packages (from click->nltk) (0.4.6)\n",
      "Downloading gensim-4.3.3-cp312-cp312-win_amd64.whl (24.0 MB)\n",
      "   ---------------------------------------- 0.0/24.0 MB ? eta -:--:--\n",
      "   ---------------------------------------- 0.0/24.0 MB 682.7 kB/s eta 0:00:36\n",
      "   ---------------------------------------- 0.0/24.0 MB 660.6 kB/s eta 0:00:37\n",
      "   ---------------------------------------- 0.0/24.0 MB 281.8 kB/s eta 0:01:26\n",
      "   ---------------------------------------- 0.0/24.0 MB 281.8 kB/s eta 0:01:26\n",
      "   ---------------------------------------- 0.1/24.0 MB 438.1 kB/s eta 0:00:55\n",
      "   ---------------------------------------- 0.1/24.0 MB 438.1 kB/s eta 0:00:55\n",
      "   ---------------------------------------- 0.1/24.0 MB 364.4 kB/s eta 0:01:06\n",
      "   ---------------------------------------- 0.1/24.0 MB 364.4 kB/s eta 0:01:06\n",
      "   ---------------------------------------- 0.2/24.0 MB 393.8 kB/s eta 0:01:01\n",
      "   ---------------------------------------- 0.2/24.0 MB 374.9 kB/s eta 0:01:04\n",
      "   ---------------------------------------- 0.2/24.0 MB 374.9 kB/s eta 0:01:04\n",
      "   ---------------------------------------- 0.3/24.0 MB 466.2 kB/s eta 0:00:51\n",
      "   ---------------------------------------- 0.3/24.0 MB 466.2 kB/s eta 0:00:51\n",
      "    --------------------------------------- 0.4/24.0 MB 518.1 kB/s eta 0:00:46\n",
      "    --------------------------------------- 0.5/24.0 MB 641.8 kB/s eta 0:00:37\n",
      "    --------------------------------------- 0.6/24.0 MB 736.2 kB/s eta 0:00:32\n",
      "   - -------------------------------------- 0.6/24.0 MB 731.4 kB/s eta 0:00:32\n",
      "   - -------------------------------------- 0.7/24.0 MB 786.8 kB/s eta 0:00:30\n",
      "   - -------------------------------------- 0.8/24.0 MB 847.7 kB/s eta 0:00:28\n",
      "   - -------------------------------------- 0.8/24.0 MB 859.6 kB/s eta 0:00:27\n",
      "   - -------------------------------------- 0.8/24.0 MB 859.6 kB/s eta 0:00:27\n",
      "   - -------------------------------------- 0.9/24.0 MB 837.4 kB/s eta 0:00:28\n",
      "   - -------------------------------------- 0.9/24.0 MB 824.4 kB/s eta 0:00:29\n",
      "   - -------------------------------------- 0.9/24.0 MB 824.4 kB/s eta 0:00:29\n",
      "   - -------------------------------------- 0.9/24.0 MB 824.4 kB/s eta 0:00:29\n",
      "   - -------------------------------------- 1.0/24.0 MB 771.7 kB/s eta 0:00:30\n",
      "   - -------------------------------------- 1.1/24.0 MB 847.3 kB/s eta 0:00:28\n",
      "   -- ------------------------------------- 1.2/24.0 MB 892.1 kB/s eta 0:00:26\n",
      "   -- ------------------------------------- 1.3/24.0 MB 943.0 kB/s eta 0:00:25\n",
      "   -- ------------------------------------- 1.4/24.0 MB 983.4 kB/s eta 0:00:23\n",
      "   -- ------------------------------------- 1.6/24.0 MB 1.1 MB/s eta 0:00:22\n",
      "   -- ------------------------------------- 1.6/24.0 MB 1.1 MB/s eta 0:00:21\n",
      "   -- ------------------------------------- 1.8/24.0 MB 1.1 MB/s eta 0:00:20\n",
      "   --- ------------------------------------ 1.9/24.0 MB 1.2 MB/s eta 0:00:19\n",
      "   --- ------------------------------------ 2.1/24.0 MB 1.2 MB/s eta 0:00:18\n",
      "   --- ------------------------------------ 2.1/24.0 MB 1.3 MB/s eta 0:00:18\n",
      "   --- ------------------------------------ 2.3/24.0 MB 1.3 MB/s eta 0:00:18\n",
      "   --- ------------------------------------ 2.4/24.0 MB 1.3 MB/s eta 0:00:17\n",
      "   ---- ----------------------------------- 2.4/24.0 MB 1.3 MB/s eta 0:00:17\n",
      "   ---- ----------------------------------- 2.6/24.0 MB 1.4 MB/s eta 0:00:16\n",
      "   ---- ----------------------------------- 2.6/24.0 MB 1.4 MB/s eta 0:00:16\n",
      "   ---- ----------------------------------- 2.7/24.0 MB 1.4 MB/s eta 0:00:16\n",
      "   ---- ----------------------------------- 2.7/24.0 MB 1.3 MB/s eta 0:00:16\n",
      "   ---- ----------------------------------- 2.8/24.0 MB 1.4 MB/s eta 0:00:16\n",
      "   ---- ----------------------------------- 2.9/24.0 MB 1.4 MB/s eta 0:00:16\n",
      "   ---- ----------------------------------- 3.0/24.0 MB 1.4 MB/s eta 0:00:16\n",
      "   ----- ---------------------------------- 3.0/24.0 MB 1.4 MB/s eta 0:00:16\n",
      "   ----- ---------------------------------- 3.0/24.0 MB 1.4 MB/s eta 0:00:16\n",
      "   ----- ---------------------------------- 3.0/24.0 MB 1.4 MB/s eta 0:00:16\n",
      "   ----- ---------------------------------- 3.0/24.0 MB 1.4 MB/s eta 0:00:16\n",
      "   ----- ---------------------------------- 3.0/24.0 MB 1.4 MB/s eta 0:00:16\n",
      "   ----- ---------------------------------- 3.0/24.0 MB 1.4 MB/s eta 0:00:16\n",
      "   ----- ---------------------------------- 3.0/24.0 MB 1.2 MB/s eta 0:00:18\n",
      "   ----- ---------------------------------- 3.0/24.0 MB 1.2 MB/s eta 0:00:18\n",
      "   ----- ---------------------------------- 3.0/24.0 MB 1.2 MB/s eta 0:00:18\n",
      "   ----- ---------------------------------- 3.1/24.0 MB 1.2 MB/s eta 0:00:19\n",
      "   ----- ---------------------------------- 3.1/24.0 MB 1.2 MB/s eta 0:00:19\n",
      "   ----- ---------------------------------- 3.1/24.0 MB 1.2 MB/s eta 0:00:19\n",
      "   ----- ---------------------------------- 3.1/24.0 MB 1.2 MB/s eta 0:00:19\n",
      "   ----- ---------------------------------- 3.1/24.0 MB 1.2 MB/s eta 0:00:19\n",
      "   ----- ---------------------------------- 3.1/24.0 MB 1.2 MB/s eta 0:00:19\n",
      "   ----- ---------------------------------- 3.1/24.0 MB 1.2 MB/s eta 0:00:19\n",
      "   ----- ---------------------------------- 3.1/24.0 MB 1.2 MB/s eta 0:00:19\n",
      "   ----- ---------------------------------- 3.1/24.0 MB 1.2 MB/s eta 0:00:19\n",
      "   ----- ---------------------------------- 3.1/24.0 MB 1.2 MB/s eta 0:00:19\n",
      "   ----- ---------------------------------- 3.1/24.0 MB 1.2 MB/s eta 0:00:19\n",
      "   ----- ---------------------------------- 3.1/24.0 MB 1.2 MB/s eta 0:00:19\n",
      "   ----- ---------------------------------- 3.1/24.0 MB 1.2 MB/s eta 0:00:19\n",
      "   ----- ---------------------------------- 3.1/24.0 MB 1.2 MB/s eta 0:00:19\n",
      "   ----- ---------------------------------- 3.1/24.0 MB 1.2 MB/s eta 0:00:19\n",
      "   ----- ---------------------------------- 3.1/24.0 MB 1.2 MB/s eta 0:00:19\n",
      "   ----- ---------------------------------- 3.1/24.0 MB 1.2 MB/s eta 0:00:19\n",
      "   ----- ---------------------------------- 3.1/24.0 MB 1.2 MB/s eta 0:00:19\n",
      "   ----- ---------------------------------- 3.1/24.0 MB 1.2 MB/s eta 0:00:19\n",
      "   ----- ---------------------------------- 3.1/24.0 MB 1.2 MB/s eta 0:00:19\n",
      "   ----- ---------------------------------- 3.1/24.0 MB 1.2 MB/s eta 0:00:19\n",
      "   ----- ---------------------------------- 3.1/24.0 MB 1.2 MB/s eta 0:00:19\n",
      "   ----- ---------------------------------- 3.1/24.0 MB 1.2 MB/s eta 0:00:19\n",
      "   ----- ---------------------------------- 3.1/24.0 MB 1.2 MB/s eta 0:00:19\n",
      "   ----- ---------------------------------- 3.1/24.0 MB 1.2 MB/s eta 0:00:19\n",
      "   ----- ---------------------------------- 3.1/24.0 MB 1.2 MB/s eta 0:00:19\n",
      "   ----- ---------------------------------- 3.1/24.0 MB 1.2 MB/s eta 0:00:19\n",
      "   ----- ---------------------------------- 3.1/24.0 MB 1.2 MB/s eta 0:00:19\n",
      "   ----- ---------------------------------- 3.1/24.0 MB 1.2 MB/s eta 0:00:19\n",
      "   ----- ---------------------------------- 3.1/24.0 MB 1.2 MB/s eta 0:00:19\n",
      "   ----- ---------------------------------- 3.1/24.0 MB 1.2 MB/s eta 0:00:19\n",
      "   ----- ---------------------------------- 3.1/24.0 MB 1.2 MB/s eta 0:00:19\n",
      "   ----- ---------------------------------- 3.1/24.0 MB 1.2 MB/s eta 0:00:19\n",
      "   ----- ---------------------------------- 3.1/24.0 MB 1.2 MB/s eta 0:00:19\n",
      "   ----- ---------------------------------- 3.1/24.0 MB 1.2 MB/s eta 0:00:19\n",
      "   ----- ---------------------------------- 3.1/24.0 MB 1.2 MB/s eta 0:00:19\n",
      "   ----- ---------------------------------- 3.1/24.0 MB 1.2 MB/s eta 0:00:19\n",
      "   ----- ---------------------------------- 3.3/24.0 MB 753.4 kB/s eta 0:00:28\n",
      "   ----- ---------------------------------- 3.3/24.0 MB 753.4 kB/s eta 0:00:28\n",
      "   ----- ---------------------------------- 3.3/24.0 MB 753.4 kB/s eta 0:00:28\n",
      "   ----- ---------------------------------- 3.3/24.0 MB 753.4 kB/s eta 0:00:28\n",
      "   ----- ---------------------------------- 3.3/24.0 MB 753.4 kB/s eta 0:00:28\n",
      "   ----- ---------------------------------- 3.3/24.0 MB 753.4 kB/s eta 0:00:28\n",
      "   ----- ---------------------------------- 3.3/24.0 MB 753.4 kB/s eta 0:00:28\n",
      "   ----- ---------------------------------- 3.3/24.0 MB 753.4 kB/s eta 0:00:28\n",
      "   ----- ---------------------------------- 3.3/24.0 MB 753.4 kB/s eta 0:00:28\n",
      "   ----- ---------------------------------- 3.3/24.0 MB 753.4 kB/s eta 0:00:28\n",
      "   ----- ---------------------------------- 3.3/24.0 MB 753.4 kB/s eta 0:00:28\n",
      "   ----- ---------------------------------- 3.3/24.0 MB 753.4 kB/s eta 0:00:28\n",
      "   ----- ---------------------------------- 3.3/24.0 MB 674.1 kB/s eta 0:00:31\n",
      "   ----- ---------------------------------- 3.3/24.0 MB 674.1 kB/s eta 0:00:31\n",
      "   ----- ---------------------------------- 3.3/24.0 MB 674.1 kB/s eta 0:00:31\n",
      "   ----- ---------------------------------- 3.3/24.0 MB 674.1 kB/s eta 0:00:31\n",
      "   ----- ---------------------------------- 3.4/24.0 MB 653.4 kB/s eta 0:00:32\n",
      "   ----- ---------------------------------- 3.4/24.0 MB 653.4 kB/s eta 0:00:32\n",
      "   ----- ---------------------------------- 3.4/24.0 MB 653.4 kB/s eta 0:00:32\n",
      "   ----- ---------------------------------- 3.4/24.0 MB 653.4 kB/s eta 0:00:32\n",
      "   ----- ---------------------------------- 3.4/24.0 MB 653.4 kB/s eta 0:00:32\n",
      "   ----- ---------------------------------- 3.4/24.0 MB 653.4 kB/s eta 0:00:32\n",
      "   ----- ---------------------------------- 3.4/24.0 MB 630.9 kB/s eta 0:00:33\n",
      "   ----- ---------------------------------- 3.4/24.0 MB 630.9 kB/s eta 0:00:33\n",
      "   ----- ---------------------------------- 3.4/24.0 MB 630.9 kB/s eta 0:00:33\n",
      "   ----- ---------------------------------- 3.4/24.0 MB 630.9 kB/s eta 0:00:33\n",
      "   ----- ---------------------------------- 3.4/24.0 MB 630.9 kB/s eta 0:00:33\n",
      "   ----- ---------------------------------- 3.4/24.0 MB 630.9 kB/s eta 0:00:33\n",
      "   ----- ---------------------------------- 3.4/24.0 MB 630.9 kB/s eta 0:00:33\n",
      "   ----- ---------------------------------- 3.4/24.0 MB 630.9 kB/s eta 0:00:33\n",
      "   ----- ---------------------------------- 3.4/24.0 MB 630.9 kB/s eta 0:00:33\n",
      "   ----- ---------------------------------- 3.4/24.0 MB 630.9 kB/s eta 0:00:33\n",
      "   ----- ---------------------------------- 3.4/24.0 MB 630.9 kB/s eta 0:00:33\n",
      "   ----- ---------------------------------- 3.4/24.0 MB 630.9 kB/s eta 0:00:33\n",
      "   ----- ---------------------------------- 3.4/24.0 MB 630.9 kB/s eta 0:00:33\n",
      "   ----- ---------------------------------- 3.4/24.0 MB 630.9 kB/s eta 0:00:33\n",
      "   ----- ---------------------------------- 3.4/24.0 MB 630.9 kB/s eta 0:00:33\n",
      "   ----- ---------------------------------- 3.4/24.0 MB 630.9 kB/s eta 0:00:33\n",
      "   ----- ---------------------------------- 3.4/24.0 MB 630.9 kB/s eta 0:00:33\n",
      "   ----- ---------------------------------- 3.4/24.0 MB 630.9 kB/s eta 0:00:33\n",
      "   ----- ---------------------------------- 3.4/24.0 MB 630.9 kB/s eta 0:00:33\n",
      "   ----- ---------------------------------- 3.4/24.0 MB 630.9 kB/s eta 0:00:33\n",
      "   ----- ---------------------------------- 3.4/24.0 MB 630.9 kB/s eta 0:00:33\n",
      "   ----- ---------------------------------- 3.4/24.0 MB 630.9 kB/s eta 0:00:33\n",
      "   ------ --------------------------------- 4.0/24.0 MB 623.6 kB/s eta 0:00:33\n",
      "   ------ --------------------------------- 4.0/24.0 MB 623.6 kB/s eta 0:00:33\n",
      "   ------ --------------------------------- 4.0/24.0 MB 623.6 kB/s eta 0:00:33\n",
      "   ------ --------------------------------- 4.0/24.0 MB 623.6 kB/s eta 0:00:33\n",
      "   ------ --------------------------------- 4.0/24.0 MB 623.6 kB/s eta 0:00:33\n",
      "   ------ --------------------------------- 4.0/24.0 MB 623.6 kB/s eta 0:00:33\n",
      "   ------ --------------------------------- 4.0/24.0 MB 623.6 kB/s eta 0:00:33\n",
      "   ------ --------------------------------- 4.1/24.0 MB 595.1 kB/s eta 0:00:34\n",
      "   ------ --------------------------------- 4.1/24.0 MB 595.1 kB/s eta 0:00:34\n",
      "   ------ --------------------------------- 4.1/24.0 MB 595.1 kB/s eta 0:00:34\n",
      "   ------ --------------------------------- 4.1/24.0 MB 595.1 kB/s eta 0:00:34\n",
      "   ------ --------------------------------- 4.2/24.0 MB 593.8 kB/s eta 0:00:34\n",
      "   ------- -------------------------------- 4.6/24.0 MB 661.3 kB/s eta 0:00:30\n",
      "   -------- ------------------------------- 4.9/24.0 MB 691.7 kB/s eta 0:00:28\n",
      "   -------- ------------------------------- 5.0/24.0 MB 698.6 kB/s eta 0:00:28\n",
      "   -------- ------------------------------- 5.1/24.0 MB 706.7 kB/s eta 0:00:27\n",
      "   -------- ------------------------------- 5.1/24.0 MB 712.2 kB/s eta 0:00:27\n",
      "   -------- ------------------------------- 5.2/24.0 MB 721.7 kB/s eta 0:00:27\n",
      "   -------- ------------------------------- 5.3/24.0 MB 725.5 kB/s eta 0:00:26\n",
      "   -------- ------------------------------- 5.4/24.0 MB 733.5 kB/s eta 0:00:26\n",
      "   --------- ------------------------------ 5.5/24.0 MB 741.3 kB/s eta 0:00:25\n",
      "   --------- ------------------------------ 5.6/24.0 MB 751.5 kB/s eta 0:00:25\n",
      "   --------- ------------------------------ 5.7/24.0 MB 759.4 kB/s eta 0:00:25\n",
      "   --------- ------------------------------ 5.8/24.0 MB 765.5 kB/s eta 0:00:24\n",
      "   --------- ------------------------------ 5.8/24.0 MB 768.9 kB/s eta 0:00:24\n",
      "   --------- ------------------------------ 6.0/24.0 MB 780.1 kB/s eta 0:00:24\n",
      "   ---------- ----------------------------- 6.1/24.0 MB 789.9 kB/s eta 0:00:23\n",
      "   ---------- ----------------------------- 6.2/24.0 MB 799.7 kB/s eta 0:00:23\n",
      "   ---------- ----------------------------- 6.3/24.0 MB 808.4 kB/s eta 0:00:22\n",
      "   ---------- ----------------------------- 6.4/24.0 MB 817.9 kB/s eta 0:00:22\n",
      "   ---------- ----------------------------- 6.5/24.0 MB 820.9 kB/s eta 0:00:22\n",
      "   ---------- ----------------------------- 6.5/24.0 MB 820.9 kB/s eta 0:00:22\n",
      "   ---------- ----------------------------- 6.5/24.0 MB 820.9 kB/s eta 0:00:22\n",
      "   ---------- ----------------------------- 6.5/24.0 MB 820.9 kB/s eta 0:00:22\n",
      "   ---------- ----------------------------- 6.5/24.0 MB 820.9 kB/s eta 0:00:22\n",
      "   ---------- ----------------------------- 6.5/24.0 MB 820.9 kB/s eta 0:00:22\n",
      "   ---------- ----------------------------- 6.5/24.0 MB 820.9 kB/s eta 0:00:22\n",
      "   ---------- ----------------------------- 6.5/24.0 MB 820.9 kB/s eta 0:00:22\n",
      "   ---------- ----------------------------- 6.5/24.0 MB 820.9 kB/s eta 0:00:22\n",
      "   ---------- ----------------------------- 6.5/24.0 MB 820.9 kB/s eta 0:00:22\n",
      "   ---------- ----------------------------- 6.5/24.0 MB 820.9 kB/s eta 0:00:22\n",
      "   ---------- ----------------------------- 6.5/24.0 MB 820.9 kB/s eta 0:00:22\n",
      "   ---------- ----------------------------- 6.5/24.0 MB 820.9 kB/s eta 0:00:22\n",
      "   ---------- ----------------------------- 6.5/24.0 MB 820.9 kB/s eta 0:00:22\n",
      "   ---------- ----------------------------- 6.5/24.0 MB 760.0 kB/s eta 0:00:24\n",
      "   ---------- ----------------------------- 6.5/24.0 MB 760.0 kB/s eta 0:00:24\n",
      "   ---------- ----------------------------- 6.5/24.0 MB 760.0 kB/s eta 0:00:24\n",
      "   ---------- ----------------------------- 6.5/24.0 MB 748.8 kB/s eta 0:00:24\n",
      "   ---------- ----------------------------- 6.5/24.0 MB 748.8 kB/s eta 0:00:24\n",
      "   ---------- ----------------------------- 6.5/24.0 MB 748.8 kB/s eta 0:00:24\n",
      "   ---------- ----------------------------- 6.5/24.0 MB 737.9 kB/s eta 0:00:24\n",
      "   ---------- ----------------------------- 6.5/24.0 MB 737.9 kB/s eta 0:00:24\n",
      "   ---------- ----------------------------- 6.5/24.0 MB 733.8 kB/s eta 0:00:24\n",
      "   ---------- ----------------------------- 6.5/24.0 MB 733.8 kB/s eta 0:00:24\n",
      "   ---------- ----------------------------- 6.5/24.0 MB 733.8 kB/s eta 0:00:24\n",
      "   ---------- ----------------------------- 6.5/24.0 MB 733.8 kB/s eta 0:00:24\n",
      "   ---------- ----------------------------- 6.5/24.0 MB 733.8 kB/s eta 0:00:24\n",
      "   ---------- ----------------------------- 6.5/24.0 MB 733.8 kB/s eta 0:00:24\n",
      "   ---------- ----------------------------- 6.5/24.0 MB 733.8 kB/s eta 0:00:24\n",
      "   ---------- ----------------------------- 6.5/24.0 MB 733.8 kB/s eta 0:00:24\n",
      "   ---------- ----------------------------- 6.5/24.0 MB 733.8 kB/s eta 0:00:24\n",
      "   ---------- ----------------------------- 6.5/24.0 MB 733.8 kB/s eta 0:00:24\n",
      "   ---------- ----------------------------- 6.5/24.0 MB 733.8 kB/s eta 0:00:24\n",
      "   ---------- ----------------------------- 6.5/24.0 MB 733.8 kB/s eta 0:00:24\n",
      "   ---------- ----------------------------- 6.6/24.0 MB 693.3 kB/s eta 0:00:26\n",
      "   ----------- ---------------------------- 6.7/24.0 MB 709.5 kB/s eta 0:00:25\n",
      "   ----------- ---------------------------- 7.1/24.0 MB 739.0 kB/s eta 0:00:23\n",
      "   ----------- ---------------------------- 7.1/24.0 MB 740.0 kB/s eta 0:00:23\n",
      "   ----------- ---------------------------- 7.1/24.0 MB 737.2 kB/s eta 0:00:23\n",
      "   ----------- ---------------------------- 7.2/24.0 MB 738.7 kB/s eta 0:00:23\n",
      "   ------------ --------------------------- 7.2/24.0 MB 743.8 kB/s eta 0:00:23\n",
      "   ------------ --------------------------- 7.4/24.0 MB 750.6 kB/s eta 0:00:23\n",
      "   ------------ --------------------------- 7.5/24.0 MB 758.5 kB/s eta 0:00:22\n",
      "   ------------ --------------------------- 7.5/24.0 MB 762.0 kB/s eta 0:00:22\n",
      "   ------------ --------------------------- 7.6/24.0 MB 766.8 kB/s eta 0:00:22\n",
      "   ------------ --------------------------- 7.7/24.0 MB 769.4 kB/s eta 0:00:22\n",
      "   ------------ --------------------------- 7.8/24.0 MB 776.1 kB/s eta 0:00:21\n",
      "   ------------- -------------------------- 7.8/24.0 MB 776.5 kB/s eta 0:00:21\n",
      "   ------------- -------------------------- 7.8/24.0 MB 776.5 kB/s eta 0:00:21\n",
      "   ------------- -------------------------- 7.8/24.0 MB 776.5 kB/s eta 0:00:21\n",
      "   ------------- -------------------------- 7.8/24.0 MB 776.5 kB/s eta 0:00:21\n",
      "   ------------- -------------------------- 7.8/24.0 MB 776.5 kB/s eta 0:00:21\n",
      "   ------------- -------------------------- 7.8/24.0 MB 776.5 kB/s eta 0:00:21\n",
      "   ------------- -------------------------- 7.8/24.0 MB 776.5 kB/s eta 0:00:21\n",
      "   ------------- -------------------------- 7.8/24.0 MB 756.2 kB/s eta 0:00:22\n",
      "   ------------- -------------------------- 7.8/24.0 MB 756.2 kB/s eta 0:00:22\n",
      "   ------------- -------------------------- 7.9/24.0 MB 750.3 kB/s eta 0:00:22\n",
      "   ------------- -------------------------- 7.9/24.0 MB 750.3 kB/s eta 0:00:22\n",
      "   ------------- -------------------------- 7.9/24.0 MB 750.3 kB/s eta 0:00:22\n",
      "   ------------- -------------------------- 7.9/24.0 MB 750.3 kB/s eta 0:00:22\n",
      "   ------------- -------------------------- 7.9/24.0 MB 750.3 kB/s eta 0:00:22\n",
      "   ------------- -------------------------- 7.9/24.0 MB 750.3 kB/s eta 0:00:22\n",
      "   ------------- -------------------------- 7.9/24.0 MB 733.5 kB/s eta 0:00:22\n",
      "   ------------- -------------------------- 7.9/24.0 MB 729.1 kB/s eta 0:00:23\n",
      "   ------------- -------------------------- 8.0/24.0 MB 733.7 kB/s eta 0:00:22\n",
      "   ------------- -------------------------- 8.0/24.0 MB 736.1 kB/s eta 0:00:22\n",
      "   ------------- -------------------------- 8.2/24.0 MB 743.2 kB/s eta 0:00:22\n",
      "   ------------- -------------------------- 8.2/24.0 MB 746.6 kB/s eta 0:00:22\n",
      "   ------------- -------------------------- 8.3/24.0 MB 748.4 kB/s eta 0:00:22\n",
      "   ------------- -------------------------- 8.3/24.0 MB 748.4 kB/s eta 0:00:22\n",
      "   ------------- -------------------------- 8.3/24.0 MB 748.4 kB/s eta 0:00:22\n",
      "   ------------- -------------------------- 8.3/24.0 MB 748.4 kB/s eta 0:00:22\n",
      "   ------------- -------------------------- 8.3/24.0 MB 748.4 kB/s eta 0:00:22\n",
      "   ------------- -------------------------- 8.3/24.0 MB 748.4 kB/s eta 0:00:22\n",
      "   ------------- -------------------------- 8.3/24.0 MB 748.4 kB/s eta 0:00:22\n",
      "   ------------- -------------------------- 8.3/24.0 MB 729.4 kB/s eta 0:00:22\n",
      "   ------------- -------------------------- 8.3/24.0 MB 729.4 kB/s eta 0:00:22\n",
      "   ------------- -------------------------- 8.3/24.0 MB 726.2 kB/s eta 0:00:22\n",
      "   ------------- -------------------------- 8.3/24.0 MB 726.2 kB/s eta 0:00:22\n",
      "   ------------- -------------------------- 8.3/24.0 MB 726.2 kB/s eta 0:00:22\n",
      "   ------------- -------------------------- 8.3/24.0 MB 726.2 kB/s eta 0:00:22\n",
      "   ------------- -------------------------- 8.3/24.0 MB 726.2 kB/s eta 0:00:22\n",
      "   ------------- -------------------------- 8.3/24.0 MB 726.2 kB/s eta 0:00:22\n",
      "   ------------- -------------------------- 8.3/24.0 MB 706.8 kB/s eta 0:00:23\n",
      "   ------------- -------------------------- 8.4/24.0 MB 709.4 kB/s eta 0:00:23\n",
      "   ------------- -------------------------- 8.4/24.0 MB 709.0 kB/s eta 0:00:23\n",
      "   -------------- ------------------------- 8.4/24.0 MB 710.6 kB/s eta 0:00:22\n",
      "   -------------- ------------------------- 8.4/24.0 MB 710.6 kB/s eta 0:00:22\n",
      "   -------------- ------------------------- 8.5/24.0 MB 706.7 kB/s eta 0:00:22\n",
      "   -------------- ------------------------- 8.6/24.0 MB 718.5 kB/s eta 0:00:22\n",
      "   -------------- ------------------------- 8.6/24.0 MB 718.5 kB/s eta 0:00:22\n",
      "   -------------- ------------------------- 8.7/24.0 MB 714.6 kB/s eta 0:00:22\n",
      "   -------------- ------------------------- 8.7/24.0 MB 714.6 kB/s eta 0:00:22\n",
      "   -------------- ------------------------- 8.7/24.0 MB 714.6 kB/s eta 0:00:22\n",
      "   -------------- ------------------------- 8.7/24.0 MB 710.5 kB/s eta 0:00:22\n",
      "   -------------- ------------------------- 8.8/24.0 MB 712.0 kB/s eta 0:00:22\n",
      "   -------------- ------------------------- 8.8/24.0 MB 712.0 kB/s eta 0:00:22\n",
      "   -------------- ------------------------- 8.8/24.0 MB 712.0 kB/s eta 0:00:22\n",
      "   -------------- ------------------------- 8.8/24.0 MB 712.0 kB/s eta 0:00:22\n",
      "   -------------- ------------------------- 8.8/24.0 MB 712.0 kB/s eta 0:00:22\n",
      "   -------------- ------------------------- 8.8/24.0 MB 712.0 kB/s eta 0:00:22\n",
      "   -------------- ------------------------- 8.8/24.0 MB 712.0 kB/s eta 0:00:22\n",
      "   -------------- ------------------------- 8.8/24.0 MB 712.0 kB/s eta 0:00:22\n",
      "   -------------- ------------------------- 8.8/24.0 MB 712.0 kB/s eta 0:00:22\n",
      "   -------------- ------------------------- 8.8/24.0 MB 712.0 kB/s eta 0:00:22\n",
      "   -------------- ------------------------- 8.8/24.0 MB 712.0 kB/s eta 0:00:22\n",
      "   -------------- ------------------------- 8.8/24.0 MB 712.0 kB/s eta 0:00:22\n",
      "   -------------- ------------------------- 8.8/24.0 MB 712.0 kB/s eta 0:00:22\n",
      "   -------------- ------------------------- 8.8/24.0 MB 712.0 kB/s eta 0:00:22\n",
      "   -------------- ------------------------- 8.8/24.0 MB 712.0 kB/s eta 0:00:22\n",
      "   -------------- ------------------------- 8.8/24.0 MB 712.0 kB/s eta 0:00:22\n",
      "   -------------- ------------------------- 8.8/24.0 MB 712.0 kB/s eta 0:00:22\n",
      "   -------------- ------------------------- 8.8/24.0 MB 712.0 kB/s eta 0:00:22\n",
      "   -------------- ------------------------- 8.8/24.0 MB 712.0 kB/s eta 0:00:22\n",
      "   -------------- ------------------------- 8.8/24.0 MB 712.0 kB/s eta 0:00:22\n",
      "   -------------- ------------------------- 8.8/24.0 MB 712.0 kB/s eta 0:00:22\n",
      "   -------------- ------------------------- 8.8/24.0 MB 712.0 kB/s eta 0:00:22\n",
      "   -------------- ------------------------- 8.8/24.0 MB 712.0 kB/s eta 0:00:22\n",
      "   -------------- ------------------------- 8.8/24.0 MB 712.0 kB/s eta 0:00:22\n",
      "   -------------- ------------------------- 8.8/24.0 MB 712.0 kB/s eta 0:00:22\n",
      "   -------------- ------------------------- 8.8/24.0 MB 712.0 kB/s eta 0:00:22\n",
      "   -------------- ------------------------- 8.8/24.0 MB 712.0 kB/s eta 0:00:22\n",
      "   -------------- ------------------------- 8.8/24.0 MB 712.0 kB/s eta 0:00:22\n",
      "   -------------- ------------------------- 8.8/24.0 MB 712.0 kB/s eta 0:00:22\n",
      "   -------------- ------------------------- 8.8/24.0 MB 712.0 kB/s eta 0:00:22\n",
      "   -------------- ------------------------- 8.8/24.0 MB 712.0 kB/s eta 0:00:22\n",
      "   -------------- ------------------------- 8.8/24.0 MB 712.0 kB/s eta 0:00:22\n",
      "   -------------- ------------------------- 8.8/24.0 MB 712.0 kB/s eta 0:00:22\n",
      "   -------------- ------------------------- 8.8/24.0 MB 712.0 kB/s eta 0:00:22\n",
      "   -------------- ------------------------- 8.8/24.0 MB 712.0 kB/s eta 0:00:22\n",
      "   -------------- ------------------------- 8.8/24.0 MB 712.0 kB/s eta 0:00:22\n",
      "   -------------- ------------------------- 8.8/24.0 MB 712.0 kB/s eta 0:00:22\n",
      "   -------------- ------------------------- 8.8/24.0 MB 712.0 kB/s eta 0:00:22\n",
      "   -------------- ------------------------- 8.8/24.0 MB 712.0 kB/s eta 0:00:22\n",
      "   -------------- ------------------------- 8.8/24.0 MB 712.0 kB/s eta 0:00:22\n",
      "   -------------- ------------------------- 8.8/24.0 MB 712.0 kB/s eta 0:00:22\n",
      "   -------------- ------------------------- 8.8/24.0 MB 712.0 kB/s eta 0:00:22\n",
      "   -------------- ------------------------- 8.8/24.0 MB 712.0 kB/s eta 0:00:22\n",
      "   -------------- ------------------------- 8.8/24.0 MB 712.0 kB/s eta 0:00:22\n",
      "   -------------- ------------------------- 8.8/24.0 MB 712.0 kB/s eta 0:00:22\n",
      "   -------------- ------------------------- 8.8/24.0 MB 712.0 kB/s eta 0:00:22\n",
      "   -------------- ------------------------- 8.8/24.0 MB 712.0 kB/s eta 0:00:22\n",
      "   -------------- ------------------------- 8.8/24.0 MB 712.0 kB/s eta 0:00:22\n",
      "   -------------- ------------------------- 8.8/24.0 MB 712.0 kB/s eta 0:00:22\n",
      "   -------------- ------------------------- 8.8/24.0 MB 712.0 kB/s eta 0:00:22\n",
      "   -------------- ------------------------- 8.8/24.0 MB 712.0 kB/s eta 0:00:22\n",
      "   -------------- ------------------------- 8.8/24.0 MB 712.0 kB/s eta 0:00:22\n",
      "   -------------- ------------------------- 8.8/24.0 MB 712.0 kB/s eta 0:00:22\n",
      "   -------------- ------------------------- 8.8/24.0 MB 712.0 kB/s eta 0:00:22\n",
      "   -------------- ------------------------- 8.8/24.0 MB 712.0 kB/s eta 0:00:22\n",
      "   -------------- ------------------------- 8.8/24.0 MB 712.0 kB/s eta 0:00:22\n",
      "   -------------- ------------------------- 8.8/24.0 MB 712.0 kB/s eta 0:00:22\n",
      "   -------------- ------------------------- 8.8/24.0 MB 712.0 kB/s eta 0:00:22\n",
      "   -------------- ------------------------- 8.8/24.0 MB 712.0 kB/s eta 0:00:22\n",
      "   -------------- ------------------------- 8.8/24.0 MB 712.0 kB/s eta 0:00:22\n",
      "   -------------- ------------------------- 8.8/24.0 MB 712.0 kB/s eta 0:00:22\n",
      "   -------------- ------------------------- 8.8/24.0 MB 712.0 kB/s eta 0:00:22\n",
      "   -------------- ------------------------- 8.8/24.0 MB 712.0 kB/s eta 0:00:22\n",
      "   -------------- ------------------------- 8.8/24.0 MB 712.0 kB/s eta 0:00:22\n",
      "   -------------- ------------------------- 8.8/24.0 MB 712.0 kB/s eta 0:00:22\n",
      "   -------------- ------------------------- 8.8/24.0 MB 712.0 kB/s eta 0:00:22\n",
      "   -------------- ------------------------- 8.8/24.0 MB 712.0 kB/s eta 0:00:22\n",
      "   -------------- ------------------------- 8.8/24.0 MB 712.0 kB/s eta 0:00:22\n",
      "   -------------- ------------------------- 8.8/24.0 MB 712.0 kB/s eta 0:00:22\n",
      "   -------------- ------------------------- 8.8/24.0 MB 712.0 kB/s eta 0:00:22\n",
      "   -------------- ------------------------- 8.8/24.0 MB 712.0 kB/s eta 0:00:22\n",
      "   -------------- ------------------------- 8.8/24.0 MB 712.0 kB/s eta 0:00:22\n",
      "   -------------- ------------------------- 8.8/24.0 MB 712.0 kB/s eta 0:00:22\n",
      "   -------------- ------------------------- 8.8/24.0 MB 712.0 kB/s eta 0:00:22\n",
      "   -------------- ------------------------- 8.8/24.0 MB 712.0 kB/s eta 0:00:22\n",
      "   -------------- ------------------------- 8.8/24.0 MB 712.0 kB/s eta 0:00:22\n",
      "   -------------- ------------------------- 8.8/24.0 MB 712.0 kB/s eta 0:00:22\n",
      "   -------------- ------------------------- 8.9/24.0 MB 558.4 kB/s eta 0:00:28\n",
      "   -------------- ------------------------- 8.9/24.0 MB 558.4 kB/s eta 0:00:28\n",
      "   --------------- ------------------------ 9.1/24.0 MB 570.2 kB/s eta 0:00:27\n",
      "   --------------- ------------------------ 9.1/24.0 MB 570.2 kB/s eta 0:00:27\n",
      "   --------------- ------------------------ 9.1/24.0 MB 570.2 kB/s eta 0:00:27\n",
      "   --------------- ------------------------ 9.1/24.0 MB 570.2 kB/s eta 0:00:27\n",
      "   --------------- ------------------------ 9.1/24.0 MB 570.2 kB/s eta 0:00:27\n",
      "   --------------- ------------------------ 9.1/24.0 MB 570.2 kB/s eta 0:00:27\n",
      "   --------------- ------------------------ 9.1/24.0 MB 570.2 kB/s eta 0:00:27\n",
      "   --------------- ------------------------ 9.1/24.0 MB 570.2 kB/s eta 0:00:27\n",
      "   --------------- ------------------------ 9.1/24.0 MB 570.2 kB/s eta 0:00:27\n",
      "   --------------- ------------------------ 9.1/24.0 MB 570.2 kB/s eta 0:00:27\n",
      "   --------------- ------------------------ 9.1/24.0 MB 570.2 kB/s eta 0:00:27\n",
      "   --------------- ------------------------ 9.1/24.0 MB 570.2 kB/s eta 0:00:27\n",
      "   --------------- ------------------------ 9.3/24.0 MB 557.3 kB/s eta 0:00:27\n",
      "   --------------- ------------------------ 9.3/24.0 MB 557.3 kB/s eta 0:00:27\n",
      "   --------------- ------------------------ 9.3/24.0 MB 557.3 kB/s eta 0:00:27\n",
      "   --------------- ------------------------ 9.3/24.0 MB 554.4 kB/s eta 0:00:27\n",
      "   --------------- ------------------------ 9.3/24.0 MB 553.5 kB/s eta 0:00:27\n",
      "   --------------- ------------------------ 9.3/24.0 MB 553.1 kB/s eta 0:00:27\n",
      "   --------------- ------------------------ 9.3/24.0 MB 552.8 kB/s eta 0:00:27\n",
      "   --------------- ------------------------ 9.4/24.0 MB 552.6 kB/s eta 0:00:27\n",
      "   --------------- ------------------------ 9.4/24.0 MB 553.4 kB/s eta 0:00:27\n",
      "   --------------- ------------------------ 9.4/24.0 MB 553.4 kB/s eta 0:00:27\n",
      "   --------------- ------------------------ 9.4/24.0 MB 553.4 kB/s eta 0:00:27\n",
      "   --------------- ------------------------ 9.5/24.0 MB 551.3 kB/s eta 0:00:27\n",
      "   --------------- ------------------------ 9.6/24.0 MB 558.1 kB/s eta 0:00:26\n",
      "   --------------- ------------------------ 9.6/24.0 MB 558.1 kB/s eta 0:00:26\n",
      "   --------------- ------------------------ 9.6/24.0 MB 554.6 kB/s eta 0:00:26\n",
      "   ---------------- ----------------------- 9.6/24.0 MB 556.1 kB/s eta 0:00:26\n",
      "   ---------------- ----------------------- 9.7/24.0 MB 557.4 kB/s eta 0:00:26\n",
      "   ---------------- ----------------------- 9.8/24.0 MB 559.5 kB/s eta 0:00:26\n",
      "   ---------------- ----------------------- 9.8/24.0 MB 561.0 kB/s eta 0:00:26\n",
      "   ---------------- ----------------------- 9.9/24.0 MB 562.9 kB/s eta 0:00:26\n",
      "   ---------------- ----------------------- 9.9/24.0 MB 563.8 kB/s eta 0:00:26\n",
      "   ---------------- ----------------------- 10.0/24.0 MB 565.8 kB/s eta 0:00:25\n",
      "   ---------------- ----------------------- 10.1/24.0 MB 569.0 kB/s eta 0:00:25\n",
      "   ---------------- ----------------------- 10.1/24.0 MB 568.7 kB/s eta 0:00:25\n",
      "   ---------------- ----------------------- 10.2/24.0 MB 571.2 kB/s eta 0:00:25\n",
      "   ----------------- ---------------------- 10.2/24.0 MB 574.3 kB/s eta 0:00:24\n",
      "   ----------------- ---------------------- 10.3/24.0 MB 577.3 kB/s eta 0:00:24\n",
      "   ----------------- ---------------------- 10.4/24.0 MB 583.0 kB/s eta 0:00:24\n",
      "   ----------------- ---------------------- 10.4/24.0 MB 583.0 kB/s eta 0:00:24\n",
      "   ----------------- ---------------------- 10.4/24.0 MB 583.0 kB/s eta 0:00:24\n",
      "   ----------------- ---------------------- 10.5/24.0 MB 585.1 kB/s eta 0:00:24\n",
      "   ----------------- ---------------------- 10.5/24.0 MB 587.2 kB/s eta 0:00:23\n",
      "   ----------------- ---------------------- 10.6/24.0 MB 585.6 kB/s eta 0:00:23\n",
      "   ----------------- ---------------------- 10.7/24.0 MB 584.1 kB/s eta 0:00:23\n",
      "   ----------------- ---------------------- 10.7/24.0 MB 584.1 kB/s eta 0:00:23\n",
      "   ----------------- ---------------------- 10.7/24.0 MB 582.0 kB/s eta 0:00:23\n",
      "   ----------------- ---------------------- 10.7/24.0 MB 582.0 kB/s eta 0:00:23\n",
      "   ----------------- ---------------------- 10.7/24.0 MB 582.0 kB/s eta 0:00:23\n",
      "   ----------------- ---------------------- 10.7/24.0 MB 582.0 kB/s eta 0:00:23\n",
      "   ----------------- ---------------------- 10.7/24.0 MB 582.0 kB/s eta 0:00:23\n",
      "   ----------------- ---------------------- 10.7/24.0 MB 582.0 kB/s eta 0:00:23\n",
      "   ----------------- ---------------------- 10.7/24.0 MB 582.0 kB/s eta 0:00:23\n",
      "   ----------------- ---------------------- 10.7/24.0 MB 582.0 kB/s eta 0:00:23\n",
      "   ----------------- ---------------------- 10.7/24.0 MB 582.0 kB/s eta 0:00:23\n",
      "   ----------------- ---------------------- 10.7/24.0 MB 582.0 kB/s eta 0:00:23\n",
      "   ----------------- ---------------------- 10.7/24.0 MB 582.0 kB/s eta 0:00:23\n",
      "   ----------------- ---------------------- 10.7/24.0 MB 582.0 kB/s eta 0:00:23\n",
      "   ----------------- ---------------------- 10.7/24.0 MB 582.0 kB/s eta 0:00:23\n",
      "   ----------------- ---------------------- 10.7/24.0 MB 582.0 kB/s eta 0:00:23\n",
      "   ----------------- ---------------------- 10.8/24.0 MB 561.0 kB/s eta 0:00:24\n",
      "   ----------------- ---------------------- 10.8/24.0 MB 561.0 kB/s eta 0:00:24\n",
      "   ----------------- ---------------------- 10.8/24.0 MB 561.0 kB/s eta 0:00:24\n",
      "   ----------------- ---------------------- 10.8/24.0 MB 561.0 kB/s eta 0:00:24\n",
      "   ----------------- ---------------------- 10.8/24.0 MB 555.8 kB/s eta 0:00:24\n",
      "   ----------------- ---------------------- 10.8/24.0 MB 555.8 kB/s eta 0:00:24\n",
      "   ----------------- ---------------------- 10.8/24.0 MB 555.8 kB/s eta 0:00:24\n",
      "   ----------------- ---------------------- 10.8/24.0 MB 555.8 kB/s eta 0:00:24\n",
      "   ----------------- ---------------------- 10.8/24.0 MB 555.8 kB/s eta 0:00:24\n",
      "   ----------------- ---------------------- 10.8/24.0 MB 555.8 kB/s eta 0:00:24\n",
      "   ----------------- ---------------------- 10.8/24.0 MB 555.8 kB/s eta 0:00:24\n",
      "   ----------------- ---------------------- 10.8/24.0 MB 555.8 kB/s eta 0:00:24\n",
      "   ----------------- ---------------------- 10.8/24.0 MB 555.8 kB/s eta 0:00:24\n",
      "   ----------------- ---------------------- 10.8/24.0 MB 555.8 kB/s eta 0:00:24\n",
      "   ----------------- ---------------------- 10.8/24.0 MB 555.8 kB/s eta 0:00:24\n",
      "   ----------------- ---------------------- 10.8/24.0 MB 555.8 kB/s eta 0:00:24\n",
      "   ----------------- ---------------------- 10.8/24.0 MB 555.8 kB/s eta 0:00:24\n",
      "   ----------------- ---------------------- 10.8/24.0 MB 555.8 kB/s eta 0:00:24\n",
      "   ----------------- ---------------------- 10.8/24.0 MB 555.8 kB/s eta 0:00:24\n",
      "   ----------------- ---------------------- 10.8/24.0 MB 555.8 kB/s eta 0:00:24\n",
      "   ----------------- ---------------------- 10.8/24.0 MB 555.8 kB/s eta 0:00:24\n",
      "   ----------------- ---------------------- 10.8/24.0 MB 555.8 kB/s eta 0:00:24\n",
      "   ----------------- ---------------------- 10.8/24.0 MB 555.8 kB/s eta 0:00:24\n",
      "   ----------------- ---------------------- 10.8/24.0 MB 555.8 kB/s eta 0:00:24\n",
      "   ------------------ --------------------- 10.8/24.0 MB 529.3 kB/s eta 0:00:25\n",
      "   ------------------ --------------------- 11.0/24.0 MB 531.4 kB/s eta 0:00:25\n",
      "   ------------------ --------------------- 11.0/24.0 MB 531.4 kB/s eta 0:00:25\n",
      "   ------------------ --------------------- 11.0/24.0 MB 528.9 kB/s eta 0:00:25\n",
      "   ------------------ --------------------- 11.0/24.0 MB 528.0 kB/s eta 0:00:25\n",
      "   ------------------ --------------------- 11.0/24.0 MB 528.0 kB/s eta 0:00:25\n",
      "   ------------------ --------------------- 11.1/24.0 MB 528.4 kB/s eta 0:00:25\n",
      "   ------------------ --------------------- 11.1/24.0 MB 528.4 kB/s eta 0:00:25\n",
      "   ------------------ --------------------- 11.2/24.0 MB 530.5 kB/s eta 0:00:25\n",
      "   ------------------ --------------------- 11.2/24.0 MB 530.1 kB/s eta 0:00:25\n",
      "   ------------------ --------------------- 11.2/24.0 MB 528.9 kB/s eta 0:00:25\n",
      "   ------------------ --------------------- 11.3/24.0 MB 528.4 kB/s eta 0:00:25\n",
      "   ------------------ --------------------- 11.3/24.0 MB 528.4 kB/s eta 0:00:24\n",
      "   ------------------ --------------------- 11.4/24.0 MB 527.6 kB/s eta 0:00:24\n",
      "   ------------------- -------------------- 11.4/24.0 MB 525.9 kB/s eta 0:00:24\n",
      "   ------------------- -------------------- 11.5/24.0 MB 525.9 kB/s eta 0:00:24\n",
      "   ------------------- -------------------- 11.5/24.0 MB 524.2 kB/s eta 0:00:24\n",
      "   ------------------- -------------------- 11.5/24.0 MB 523.8 kB/s eta 0:00:24\n",
      "   ------------------- -------------------- 11.5/24.0 MB 523.8 kB/s eta 0:00:24\n",
      "   ------------------- -------------------- 11.6/24.0 MB 522.1 kB/s eta 0:00:24\n",
      "   ------------------- -------------------- 11.7/24.0 MB 521.7 kB/s eta 0:00:24\n",
      "   ------------------- -------------------- 11.7/24.0 MB 521.3 kB/s eta 0:00:24\n",
      "   ------------------- -------------------- 11.7/24.0 MB 521.3 kB/s eta 0:00:24\n",
      "   ------------------- -------------------- 11.7/24.0 MB 518.0 kB/s eta 0:00:24\n",
      "   ------------------- -------------------- 11.8/24.0 MB 517.5 kB/s eta 0:00:24\n",
      "   ------------------- -------------------- 11.8/24.0 MB 517.1 kB/s eta 0:00:24\n",
      "   ------------------- -------------------- 11.9/24.0 MB 516.7 kB/s eta 0:00:24\n",
      "   ------------------- -------------------- 11.9/24.0 MB 515.9 kB/s eta 0:00:24\n",
      "   ------------------- -------------------- 12.0/24.0 MB 514.7 kB/s eta 0:00:24\n",
      "   -------------------- ------------------- 12.0/24.0 MB 514.7 kB/s eta 0:00:24\n",
      "   -------------------- ------------------- 12.1/24.0 MB 513.5 kB/s eta 0:00:24\n",
      "   -------------------- ------------------- 12.1/24.0 MB 513.5 kB/s eta 0:00:24\n",
      "   -------------------- ------------------- 12.2/24.0 MB 512.7 kB/s eta 0:00:24\n",
      "   -------------------- ------------------- 12.2/24.0 MB 511.5 kB/s eta 0:00:24\n",
      "   -------------------- ------------------- 12.3/24.0 MB 510.7 kB/s eta 0:00:23\n",
      "   -------------------- ------------------- 12.3/24.0 MB 509.9 kB/s eta 0:00:23\n",
      "   -------------------- ------------------- 12.4/24.0 MB 509.5 kB/s eta 0:00:23\n",
      "   -------------------- ------------------- 12.4/24.0 MB 508.7 kB/s eta 0:00:23\n",
      "   -------------------- ------------------- 12.5/24.0 MB 508.3 kB/s eta 0:00:23\n",
      "   -------------------- ------------------- 12.5/24.0 MB 507.5 kB/s eta 0:00:23\n",
      "   -------------------- ------------------- 12.6/24.0 MB 506.3 kB/s eta 0:00:23\n",
      "   --------------------- ------------------ 12.6/24.0 MB 507.1 kB/s eta 0:00:23\n",
      "   --------------------- ------------------ 12.7/24.0 MB 506.3 kB/s eta 0:00:23\n",
      "   --------------------- ------------------ 12.7/24.0 MB 506.0 kB/s eta 0:00:23\n",
      "   --------------------- ------------------ 12.8/24.0 MB 504.4 kB/s eta 0:00:23\n",
      "   --------------------- ------------------ 12.8/24.0 MB 504.4 kB/s eta 0:00:23\n",
      "   --------------------- ------------------ 12.8/24.0 MB 503.2 kB/s eta 0:00:23\n",
      "   --------------------- ------------------ 12.9/24.0 MB 502.8 kB/s eta 0:00:23\n",
      "   --------------------- ------------------ 13.0/24.0 MB 503.6 kB/s eta 0:00:22\n",
      "   --------------------- ------------------ 13.0/24.0 MB 502.5 kB/s eta 0:00:22\n",
      "   --------------------- ------------------ 13.1/24.0 MB 502.4 kB/s eta 0:00:22\n",
      "   --------------------- ------------------ 13.1/24.0 MB 502.1 kB/s eta 0:00:22\n",
      "   --------------------- ------------------ 13.2/24.0 MB 500.9 kB/s eta 0:00:22\n",
      "   ---------------------- ----------------- 13.2/24.0 MB 501.7 kB/s eta 0:00:22\n",
      "   ---------------------- ----------------- 13.3/24.0 MB 511.1 kB/s eta 0:00:21\n",
      "   ---------------------- ----------------- 13.3/24.0 MB 558.6 kB/s eta 0:00:20\n",
      "   ---------------------- ----------------- 13.4/24.0 MB 557.7 kB/s eta 0:00:20\n",
      "   ---------------------- ----------------- 13.4/24.0 MB 556.7 kB/s eta 0:00:19\n",
      "   ---------------------- ----------------- 13.5/24.0 MB 554.8 kB/s eta 0:00:19\n",
      "   ---------------------- ----------------- 13.5/24.0 MB 553.4 kB/s eta 0:00:19\n",
      "   ---------------------- ----------------- 13.6/24.0 MB 576.3 kB/s eta 0:00:19\n",
      "   ---------------------- ----------------- 13.7/24.0 MB 584.0 kB/s eta 0:00:18\n",
      "   ---------------------- ----------------- 13.7/24.0 MB 617.1 kB/s eta 0:00:17\n",
      "   ---------------------- ----------------- 13.7/24.0 MB 615.3 kB/s eta 0:00:17\n",
      "   ---------------------- ----------------- 13.8/24.0 MB 615.3 kB/s eta 0:00:17\n",
      "   ----------------------- ---------------- 13.8/24.0 MB 611.9 kB/s eta 0:00:17\n",
      "   ----------------------- ---------------- 13.9/24.0 MB 610.7 kB/s eta 0:00:17\n",
      "   ----------------------- ---------------- 13.9/24.0 MB 609.6 kB/s eta 0:00:17\n",
      "   ----------------------- ---------------- 13.9/24.0 MB 607.9 kB/s eta 0:00:17\n",
      "   ----------------------- ---------------- 13.9/24.0 MB 607.9 kB/s eta 0:00:17\n",
      "   ----------------------- ---------------- 13.9/24.0 MB 607.9 kB/s eta 0:00:17\n",
      "   ----------------------- ---------------- 13.9/24.0 MB 607.9 kB/s eta 0:00:17\n",
      "   ----------------------- ---------------- 13.9/24.0 MB 607.9 kB/s eta 0:00:17\n",
      "   ----------------------- ---------------- 13.9/24.0 MB 607.9 kB/s eta 0:00:17\n",
      "   ----------------------- ---------------- 13.9/24.0 MB 607.9 kB/s eta 0:00:17\n",
      "   ----------------------- ---------------- 13.9/24.0 MB 607.9 kB/s eta 0:00:17\n",
      "   ----------------------- ---------------- 13.9/24.0 MB 607.9 kB/s eta 0:00:17\n",
      "   ----------------------- ---------------- 13.9/24.0 MB 607.9 kB/s eta 0:00:17\n",
      "   ----------------------- ---------------- 13.9/24.0 MB 607.9 kB/s eta 0:00:17\n",
      "   ----------------------- ---------------- 14.0/24.0 MB 589.8 kB/s eta 0:00:18\n",
      "   ----------------------- ---------------- 14.0/24.0 MB 589.8 kB/s eta 0:00:18\n",
      "   ----------------------- ---------------- 14.0/24.0 MB 589.8 kB/s eta 0:00:18\n",
      "   ----------------------- ---------------- 14.0/24.0 MB 589.8 kB/s eta 0:00:18\n",
      "   ----------------------- ---------------- 14.0/24.0 MB 589.8 kB/s eta 0:00:18\n",
      "   ----------------------- ---------------- 14.0/24.0 MB 589.8 kB/s eta 0:00:18\n",
      "   ----------------------- ---------------- 14.0/24.0 MB 589.8 kB/s eta 0:00:18\n",
      "   ----------------------- ---------------- 14.0/24.0 MB 589.8 kB/s eta 0:00:18\n",
      "   ----------------------- ---------------- 14.0/24.0 MB 576.8 kB/s eta 0:00:18\n",
      "   ----------------------- ---------------- 14.0/24.0 MB 575.3 kB/s eta 0:00:18\n",
      "   ----------------------- ---------------- 14.0/24.0 MB 573.8 kB/s eta 0:00:18\n",
      "   ----------------------- ---------------- 14.0/24.0 MB 573.8 kB/s eta 0:00:18\n",
      "   ----------------------- ---------------- 14.0/24.0 MB 573.8 kB/s eta 0:00:18\n",
      "   ----------------------- ---------------- 14.0/24.0 MB 568.8 kB/s eta 0:00:18\n",
      "   ----------------------- ---------------- 14.1/24.0 MB 567.3 kB/s eta 0:00:18\n",
      "   ----------------------- ---------------- 14.2/24.0 MB 565.9 kB/s eta 0:00:18\n",
      "   ----------------------- ---------------- 14.2/24.0 MB 565.9 kB/s eta 0:00:18\n",
      "   ----------------------- ---------------- 14.2/24.0 MB 563.4 kB/s eta 0:00:18\n",
      "   ----------------------- ---------------- 14.2/24.0 MB 563.4 kB/s eta 0:00:18\n",
      "   ----------------------- ---------------- 14.2/24.0 MB 563.4 kB/s eta 0:00:18\n",
      "   ----------------------- ---------------- 14.2/24.0 MB 563.4 kB/s eta 0:00:18\n",
      "   ----------------------- ---------------- 14.3/24.0 MB 567.8 kB/s eta 0:00:18\n",
      "   ----------------------- ---------------- 14.3/24.0 MB 573.3 kB/s eta 0:00:17\n",
      "   ----------------------- ---------------- 14.3/24.0 MB 571.8 kB/s eta 0:00:17\n",
      "   ----------------------- ---------------- 14.4/24.0 MB 570.3 kB/s eta 0:00:17\n",
      "   ------------------------ --------------- 14.4/24.0 MB 568.3 kB/s eta 0:00:17\n",
      "   ------------------------ --------------- 14.5/24.0 MB 566.8 kB/s eta 0:00:17\n",
      "   ------------------------ --------------- 14.5/24.0 MB 565.4 kB/s eta 0:00:17\n",
      "   ------------------------ --------------- 14.6/24.0 MB 563.9 kB/s eta 0:00:17\n",
      "   ------------------------ --------------- 14.6/24.0 MB 562.4 kB/s eta 0:00:17\n",
      "   ------------------------ --------------- 14.7/24.0 MB 561.0 kB/s eta 0:00:17\n",
      "   ------------------------ --------------- 14.8/24.0 MB 559.6 kB/s eta 0:00:17\n",
      "   ------------------------ --------------- 14.8/24.0 MB 558.6 kB/s eta 0:00:17\n",
      "   ------------------------ --------------- 14.9/24.0 MB 557.7 kB/s eta 0:00:17\n",
      "   ------------------------ --------------- 14.9/24.0 MB 557.2 kB/s eta 0:00:17\n",
      "   ------------------------ --------------- 15.0/24.0 MB 555.8 kB/s eta 0:00:17\n",
      "   ------------------------- -------------- 15.0/24.0 MB 553.9 kB/s eta 0:00:17\n",
      "   ------------------------- -------------- 15.1/24.0 MB 553.4 kB/s eta 0:00:17\n",
      "   ------------------------- -------------- 15.1/24.0 MB 553.4 kB/s eta 0:00:17\n",
      "   ------------------------- -------------- 15.2/24.0 MB 551.6 kB/s eta 0:00:16\n",
      "   ------------------------- -------------- 15.2/24.0 MB 551.6 kB/s eta 0:00:16\n",
      "   ------------------------- -------------- 15.3/24.0 MB 551.6 kB/s eta 0:00:16\n",
      "   ------------------------- -------------- 15.4/24.0 MB 550.6 kB/s eta 0:00:16\n",
      "   ------------------------- -------------- 15.4/24.0 MB 549.7 kB/s eta 0:00:16\n",
      "   ------------------------- -------------- 15.4/24.0 MB 549.2 kB/s eta 0:00:16\n",
      "   ------------------------- -------------- 15.5/24.0 MB 548.8 kB/s eta 0:00:16\n",
      "   ------------------------- -------------- 15.5/24.0 MB 548.3 kB/s eta 0:00:16\n",
      "   ------------------------- -------------- 15.6/24.0 MB 548.3 kB/s eta 0:00:16\n",
      "   -------------------------- ------------- 15.6/24.0 MB 547.0 kB/s eta 0:00:16\n",
      "   -------------------------- ------------- 15.6/24.0 MB 547.0 kB/s eta 0:00:16\n",
      "   -------------------------- ------------- 15.7/24.0 MB 544.7 kB/s eta 0:00:16\n",
      "   -------------------------- ------------- 15.7/24.0 MB 544.2 kB/s eta 0:00:16\n",
      "   -------------------------- ------------- 15.8/24.0 MB 543.8 kB/s eta 0:00:16\n",
      "   -------------------------- ------------- 15.9/24.0 MB 542.9 kB/s eta 0:00:16\n",
      "   -------------------------- ------------- 15.9/24.0 MB 542.4 kB/s eta 0:00:16\n",
      "   -------------------------- ------------- 15.9/24.0 MB 542.4 kB/s eta 0:00:16\n",
      "   -------------------------- ------------- 15.9/24.0 MB 542.4 kB/s eta 0:00:16\n",
      "   -------------------------- ------------- 15.9/24.0 MB 542.4 kB/s eta 0:00:16\n",
      "   -------------------------- ------------- 15.9/24.0 MB 542.4 kB/s eta 0:00:16\n",
      "   -------------------------- ------------- 15.9/24.0 MB 542.4 kB/s eta 0:00:16\n",
      "   -------------------------- ------------- 15.9/24.0 MB 542.4 kB/s eta 0:00:16\n",
      "   -------------------------- ------------- 15.9/24.0 MB 542.4 kB/s eta 0:00:16\n",
      "   -------------------------- ------------- 15.9/24.0 MB 531.0 kB/s eta 0:00:16\n",
      "   -------------------------- ------------- 16.0/24.0 MB 531.0 kB/s eta 0:00:16\n",
      "   -------------------------- ------------- 16.0/24.0 MB 531.4 kB/s eta 0:00:16\n",
      "   -------------------------- ------------- 16.1/24.0 MB 530.6 kB/s eta 0:00:15\n",
      "   -------------------------- ------------- 16.1/24.0 MB 529.2 kB/s eta 0:00:15\n",
      "   -------------------------- ------------- 16.1/24.0 MB 529.2 kB/s eta 0:00:15\n",
      "   -------------------------- ------------- 16.1/24.0 MB 528.0 kB/s eta 0:00:15\n",
      "   -------------------------- ------------- 16.1/24.0 MB 526.3 kB/s eta 0:00:15\n",
      "   -------------------------- ------------- 16.2/24.0 MB 526.3 kB/s eta 0:00:15\n",
      "   --------------------------- ------------ 16.3/24.0 MB 525.4 kB/s eta 0:00:15\n",
      "   --------------------------- ------------ 16.3/24.0 MB 525.0 kB/s eta 0:00:15\n",
      "   --------------------------- ------------ 16.4/24.0 MB 524.2 kB/s eta 0:00:15\n",
      "   --------------------------- ------------ 16.4/24.0 MB 524.2 kB/s eta 0:00:15\n",
      "   --------------------------- ------------ 16.4/24.0 MB 524.2 kB/s eta 0:00:15\n",
      "   --------------------------- ------------ 16.4/24.0 MB 520.0 kB/s eta 0:00:15\n",
      "   --------------------------- ------------ 16.4/24.0 MB 520.0 kB/s eta 0:00:15\n",
      "   --------------------------- ------------ 16.4/24.0 MB 517.5 kB/s eta 0:00:15\n",
      "   --------------------------- ------------ 16.4/24.0 MB 517.5 kB/s eta 0:00:15\n",
      "   --------------------------- ------------ 16.4/24.0 MB 517.5 kB/s eta 0:00:15\n",
      "   --------------------------- ------------ 16.4/24.0 MB 517.5 kB/s eta 0:00:15\n",
      "   --------------------------- ------------ 16.4/24.0 MB 517.5 kB/s eta 0:00:15\n",
      "   --------------------------- ------------ 16.4/24.0 MB 517.5 kB/s eta 0:00:15\n",
      "   --------------------------- ------------ 16.4/24.0 MB 517.5 kB/s eta 0:00:15\n",
      "   --------------------------- ------------ 16.4/24.0 MB 517.5 kB/s eta 0:00:15\n",
      "   --------------------------- ------------ 16.4/24.0 MB 517.5 kB/s eta 0:00:15\n",
      "   --------------------------- ------------ 16.4/24.0 MB 517.5 kB/s eta 0:00:15\n",
      "   --------------------------- ------------ 16.4/24.0 MB 517.5 kB/s eta 0:00:15\n",
      "   --------------------------- ------------ 16.4/24.0 MB 517.5 kB/s eta 0:00:15\n",
      "   --------------------------- ------------ 16.4/24.0 MB 517.5 kB/s eta 0:00:15\n",
      "   --------------------------- ------------ 16.4/24.0 MB 517.5 kB/s eta 0:00:15\n",
      "   --------------------------- ------------ 16.4/24.0 MB 501.7 kB/s eta 0:00:16\n",
      "   --------------------------- ------------ 16.4/24.0 MB 501.7 kB/s eta 0:00:16\n",
      "   --------------------------- ------------ 16.4/24.0 MB 501.7 kB/s eta 0:00:16\n",
      "   --------------------------- ------------ 16.4/24.0 MB 501.7 kB/s eta 0:00:16\n",
      "   --------------------------- ------------ 16.4/24.0 MB 501.7 kB/s eta 0:00:16\n",
      "   --------------------------- ------------ 16.4/24.0 MB 501.7 kB/s eta 0:00:16\n",
      "   --------------------------- ------------ 16.4/24.0 MB 501.7 kB/s eta 0:00:16\n",
      "   --------------------------- ------------ 16.4/24.0 MB 501.7 kB/s eta 0:00:16\n",
      "   --------------------------- ------------ 16.6/24.0 MB 494.5 kB/s eta 0:00:15\n",
      "   --------------------------- ------------ 16.6/24.0 MB 493.4 kB/s eta 0:00:15\n",
      "   --------------------------- ------------ 16.6/24.0 MB 493.4 kB/s eta 0:00:15\n",
      "   --------------------------- ------------ 16.6/24.0 MB 491.9 kB/s eta 0:00:15\n",
      "   --------------------------- ------------ 16.7/24.0 MB 490.4 kB/s eta 0:00:15\n",
      "   --------------------------- ------------ 16.7/24.0 MB 489.7 kB/s eta 0:00:15\n",
      "   --------------------------- ------------ 16.7/24.0 MB 505.2 kB/s eta 0:00:15\n",
      "   --------------------------- ------------ 16.8/24.0 MB 512.3 kB/s eta 0:00:15\n",
      "   --------------------------- ------------ 16.8/24.0 MB 526.7 kB/s eta 0:00:14\n",
      "   ---------------------------- ----------- 16.9/24.0 MB 525.8 kB/s eta 0:00:14\n",
      "   ---------------------------- ----------- 16.9/24.0 MB 524.2 kB/s eta 0:00:14\n",
      "   ---------------------------- ----------- 16.9/24.0 MB 522.9 kB/s eta 0:00:14\n",
      "   ---------------------------- ----------- 17.0/24.0 MB 524.2 kB/s eta 0:00:14\n",
      "   ---------------------------- ----------- 17.0/24.0 MB 523.4 kB/s eta 0:00:14\n",
      "   ---------------------------- ----------- 17.1/24.0 MB 521.3 kB/s eta 0:00:14\n",
      "   ---------------------------- ----------- 17.1/24.0 MB 520.0 kB/s eta 0:00:14\n",
      "   ---------------------------- ----------- 17.2/24.0 MB 518.8 kB/s eta 0:00:14\n",
      "   ---------------------------- ----------- 17.2/24.0 MB 517.6 kB/s eta 0:00:14\n",
      "   ---------------------------- ----------- 17.3/24.0 MB 516.3 kB/s eta 0:00:14\n",
      "   ---------------------------- ----------- 17.3/24.0 MB 517.1 kB/s eta 0:00:13\n",
      "   ---------------------------- ----------- 17.3/24.0 MB 517.5 kB/s eta 0:00:13\n",
      "   ----------------------------- ---------- 17.4/24.0 MB 517.1 kB/s eta 0:00:13\n",
      "   ----------------------------- ---------- 17.5/24.0 MB 516.7 kB/s eta 0:00:13\n",
      "   ----------------------------- ---------- 17.5/24.0 MB 515.5 kB/s eta 0:00:13\n",
      "   ----------------------------- ---------- 17.6/24.0 MB 515.5 kB/s eta 0:00:13\n",
      "   ----------------------------- ---------- 17.6/24.0 MB 514.7 kB/s eta 0:00:13\n",
      "   ----------------------------- ---------- 17.7/24.0 MB 513.9 kB/s eta 0:00:13\n",
      "   ----------------------------- ---------- 17.7/24.0 MB 513.1 kB/s eta 0:00:13\n",
      "   ----------------------------- ---------- 17.8/24.0 MB 513.1 kB/s eta 0:00:13\n",
      "   ----------------------------- ---------- 17.9/24.0 MB 512.7 kB/s eta 0:00:12\n",
      "   ----------------------------- ---------- 17.9/24.0 MB 512.3 kB/s eta 0:00:12\n",
      "   ----------------------------- ---------- 17.9/24.0 MB 512.3 kB/s eta 0:00:12\n",
      "   ----------------------------- ---------- 17.9/24.0 MB 510.7 kB/s eta 0:00:12\n",
      "   ----------------------------- ---------- 18.0/24.0 MB 510.3 kB/s eta 0:00:12\n",
      "   ------------------------------ --------- 18.1/24.0 MB 510.3 kB/s eta 0:00:12\n",
      "   ------------------------------ --------- 18.1/24.0 MB 526.7 kB/s eta 0:00:12\n",
      "   ------------------------------ --------- 18.1/24.0 MB 528.4 kB/s eta 0:00:12\n",
      "   ------------------------------ --------- 18.2/24.0 MB 527.6 kB/s eta 0:00:11\n",
      "   ------------------------------ --------- 18.3/24.0 MB 527.6 kB/s eta 0:00:11\n",
      "   ------------------------------ --------- 18.3/24.0 MB 527.1 kB/s eta 0:00:11\n",
      "   ------------------------------ --------- 18.4/24.0 MB 526.3 kB/s eta 0:00:11\n",
      "   ------------------------------ --------- 18.4/24.0 MB 526.3 kB/s eta 0:00:11\n",
      "   ------------------------------ --------- 18.5/24.0 MB 525.4 kB/s eta 0:00:11\n",
      "   ------------------------------ --------- 18.5/24.0 MB 533.1 kB/s eta 0:00:11\n",
      "   ------------------------------ --------- 18.6/24.0 MB 542.4 kB/s eta 0:00:11\n",
      "   ------------------------------ --------- 18.6/24.0 MB 542.0 kB/s eta 0:00:11\n",
      "   ------------------------------ --------- 18.6/24.0 MB 540.2 kB/s eta 0:00:11\n",
      "   ------------------------------ --------- 18.6/24.0 MB 540.2 kB/s eta 0:00:11\n",
      "   ------------------------------ --------- 18.6/24.0 MB 538.9 kB/s eta 0:00:11\n",
      "   ------------------------------- -------- 18.6/24.0 MB 537.5 kB/s eta 0:00:11\n",
      "   ------------------------------- -------- 18.6/24.0 MB 537.5 kB/s eta 0:00:11\n",
      "   ------------------------------- -------- 18.6/24.0 MB 536.2 kB/s eta 0:00:11\n",
      "   ------------------------------- -------- 18.7/24.0 MB 534.0 kB/s eta 0:00:11\n",
      "   ------------------------------- -------- 18.7/24.0 MB 535.8 kB/s eta 0:00:10\n",
      "   ------------------------------- -------- 18.7/24.0 MB 534.9 kB/s eta 0:00:10\n",
      "   ------------------------------- -------- 18.7/24.0 MB 534.9 kB/s eta 0:00:10\n",
      "   ------------------------------- -------- 18.7/24.0 MB 534.9 kB/s eta 0:00:10\n",
      "   ------------------------------- -------- 18.7/24.0 MB 534.9 kB/s eta 0:00:10\n",
      "   ------------------------------- -------- 18.7/24.0 MB 534.9 kB/s eta 0:00:10\n",
      "   ------------------------------- -------- 18.7/24.0 MB 534.9 kB/s eta 0:00:10\n",
      "   ------------------------------- -------- 18.7/24.0 MB 534.9 kB/s eta 0:00:10\n",
      "   ------------------------------- -------- 18.7/24.0 MB 534.9 kB/s eta 0:00:10\n",
      "   ------------------------------- -------- 18.7/24.0 MB 534.9 kB/s eta 0:00:10\n",
      "   ------------------------------- -------- 18.7/24.0 MB 534.9 kB/s eta 0:00:10\n",
      "   ------------------------------- -------- 18.7/24.0 MB 534.9 kB/s eta 0:00:10\n",
      "   ------------------------------- -------- 18.7/24.0 MB 534.9 kB/s eta 0:00:10\n",
      "   ------------------------------- -------- 18.7/24.0 MB 534.9 kB/s eta 0:00:10\n",
      "   ------------------------------- -------- 18.7/24.0 MB 534.9 kB/s eta 0:00:10\n",
      "   ------------------------------- -------- 18.7/24.0 MB 534.9 kB/s eta 0:00:10\n",
      "   ------------------------------- -------- 18.7/24.0 MB 534.9 kB/s eta 0:00:10\n",
      "   ------------------------------- -------- 18.7/24.0 MB 534.9 kB/s eta 0:00:10\n",
      "   ------------------------------- -------- 18.7/24.0 MB 534.9 kB/s eta 0:00:10\n",
      "   ------------------------------- -------- 18.7/24.0 MB 534.9 kB/s eta 0:00:10\n",
      "   ------------------------------- -------- 18.7/24.0 MB 534.9 kB/s eta 0:00:10\n",
      "   ------------------------------- -------- 18.7/24.0 MB 534.9 kB/s eta 0:00:10\n",
      "   ------------------------------- -------- 18.7/24.0 MB 534.9 kB/s eta 0:00:10\n",
      "   ------------------------------- -------- 18.7/24.0 MB 534.9 kB/s eta 0:00:10\n",
      "   ------------------------------- -------- 18.7/24.0 MB 534.9 kB/s eta 0:00:10\n",
      "   ------------------------------- -------- 18.7/24.0 MB 534.9 kB/s eta 0:00:10\n",
      "   ------------------------------- -------- 18.7/24.0 MB 534.9 kB/s eta 0:00:10\n",
      "   ------------------------------- -------- 18.7/24.0 MB 502.5 kB/s eta 0:00:11\n",
      "   ------------------------------- -------- 18.7/24.0 MB 502.5 kB/s eta 0:00:11\n",
      "   ------------------------------- -------- 18.7/24.0 MB 502.5 kB/s eta 0:00:11\n",
      "   ------------------------------- -------- 18.9/24.0 MB 504.0 kB/s eta 0:00:11\n",
      "   ------------------------------- -------- 18.9/24.0 MB 504.0 kB/s eta 0:00:11\n",
      "   ------------------------------- -------- 18.9/24.0 MB 504.0 kB/s eta 0:00:11\n",
      "   ------------------------------- -------- 18.9/24.0 MB 501.3 kB/s eta 0:00:11\n",
      "   ------------------------------- -------- 18.9/24.0 MB 501.3 kB/s eta 0:00:11\n",
      "   ------------------------------- -------- 18.9/24.0 MB 501.3 kB/s eta 0:00:11\n",
      "   ------------------------------- -------- 18.9/24.0 MB 501.3 kB/s eta 0:00:11\n",
      "   ------------------------------- -------- 18.9/24.0 MB 501.3 kB/s eta 0:00:11\n",
      "   ------------------------------- -------- 18.9/24.0 MB 501.3 kB/s eta 0:00:11\n",
      "   ------------------------------- -------- 18.9/24.0 MB 501.3 kB/s eta 0:00:11\n",
      "   ------------------------------- -------- 18.9/24.0 MB 501.3 kB/s eta 0:00:11\n",
      "   ------------------------------- -------- 18.9/24.0 MB 501.3 kB/s eta 0:00:11\n",
      "   ------------------------------- -------- 19.0/24.0 MB 596.8 kB/s eta 0:00:09\n",
      "   ------------------------------- -------- 19.1/24.0 MB 596.3 kB/s eta 0:00:09\n",
      "   ------------------------------- -------- 19.1/24.0 MB 596.3 kB/s eta 0:00:09\n",
      "   ------------------------------- -------- 19.1/24.0 MB 592.5 kB/s eta 0:00:09\n",
      "   ------------------------------- -------- 19.1/24.0 MB 590.9 kB/s eta 0:00:09\n",
      "   ------------------------------- -------- 19.1/24.0 MB 588.8 kB/s eta 0:00:09\n",
      "   ------------------------------- -------- 19.2/24.0 MB 589.3 kB/s eta 0:00:09\n",
      "   ------------------------------- -------- 19.2/24.0 MB 587.7 kB/s eta 0:00:09\n",
      "   -------------------------------- ------- 19.3/24.0 MB 586.1 kB/s eta 0:00:09\n",
      "   -------------------------------- ------- 19.3/24.0 MB 584.6 kB/s eta 0:00:09\n",
      "   -------------------------------- ------- 19.3/24.0 MB 583.0 kB/s eta 0:00:09\n",
      "   -------------------------------- ------- 19.4/24.0 MB 601.2 kB/s eta 0:00:08\n",
      "   -------------------------------- ------- 19.4/24.0 MB 600.1 kB/s eta 0:00:08\n",
      "   -------------------------------- ------- 19.4/24.0 MB 599.0 kB/s eta 0:00:08\n",
      "   -------------------------------- ------- 19.4/24.0 MB 599.0 kB/s eta 0:00:08\n",
      "   -------------------------------- ------- 19.5/24.0 MB 599.5 kB/s eta 0:00:08\n",
      "   -------------------------------- ------- 19.6/24.0 MB 605.1 kB/s eta 0:00:08\n",
      "   -------------------------------- ------- 19.6/24.0 MB 605.1 kB/s eta 0:00:08\n",
      "   -------------------------------- ------- 19.6/24.0 MB 604.0 kB/s eta 0:00:08\n",
      "   -------------------------------- ------- 19.7/24.0 MB 606.2 kB/s eta 0:00:08\n",
      "   -------------------------------- ------- 19.7/24.0 MB 606.2 kB/s eta 0:00:08\n",
      "   -------------------------------- ------- 19.8/24.0 MB 604.5 kB/s eta 0:00:08\n",
      "   -------------------------------- ------- 19.8/24.0 MB 602.8 kB/s eta 0:00:08\n",
      "   --------------------------------- ------ 19.8/24.0 MB 606.2 kB/s eta 0:00:07\n",
      "   --------------------------------- ------ 19.9/24.0 MB 604.6 kB/s eta 0:00:07\n",
      "   --------------------------------- ------ 19.9/24.0 MB 604.6 kB/s eta 0:00:07\n",
      "   --------------------------------- ------ 19.9/24.0 MB 604.6 kB/s eta 0:00:07\n",
      "   --------------------------------- ------ 19.9/24.0 MB 604.6 kB/s eta 0:00:07\n",
      "   --------------------------------- ------ 19.9/24.0 MB 604.6 kB/s eta 0:00:07\n",
      "   --------------------------------- ------ 19.9/24.0 MB 604.6 kB/s eta 0:00:07\n",
      "   --------------------------------- ------ 19.9/24.0 MB 604.6 kB/s eta 0:00:07\n",
      "   --------------------------------- ------ 19.9/24.0 MB 604.6 kB/s eta 0:00:07\n",
      "   --------------------------------- ------ 19.9/24.0 MB 604.6 kB/s eta 0:00:07\n",
      "   --------------------------------- ------ 19.9/24.0 MB 604.6 kB/s eta 0:00:07\n",
      "   --------------------------------- ------ 19.9/24.0 MB 604.6 kB/s eta 0:00:07\n",
      "   --------------------------------- ------ 19.9/24.0 MB 604.6 kB/s eta 0:00:07\n",
      "   --------------------------------- ------ 19.9/24.0 MB 604.6 kB/s eta 0:00:07\n",
      "   --------------------------------- ------ 19.9/24.0 MB 604.6 kB/s eta 0:00:07\n",
      "   --------------------------------- ------ 19.9/24.0 MB 604.6 kB/s eta 0:00:07\n",
      "   --------------------------------- ------ 19.9/24.0 MB 604.6 kB/s eta 0:00:07\n",
      "   --------------------------------- ------ 19.9/24.0 MB 604.6 kB/s eta 0:00:07\n",
      "   --------------------------------- ------ 19.9/24.0 MB 604.6 kB/s eta 0:00:07\n",
      "   --------------------------------- ------ 19.9/24.0 MB 604.6 kB/s eta 0:00:07\n",
      "   --------------------------------- ------ 19.9/24.0 MB 604.6 kB/s eta 0:00:07\n",
      "   --------------------------------- ------ 19.9/24.0 MB 604.6 kB/s eta 0:00:07\n",
      "   --------------------------------- ------ 19.9/24.0 MB 604.6 kB/s eta 0:00:07\n",
      "   --------------------------------- ------ 19.9/24.0 MB 604.6 kB/s eta 0:00:07\n",
      "   --------------------------------- ------ 19.9/24.0 MB 604.6 kB/s eta 0:00:07\n",
      "   --------------------------------- ------ 19.9/24.0 MB 604.6 kB/s eta 0:00:07\n",
      "   --------------------------------- ------ 19.9/24.0 MB 604.6 kB/s eta 0:00:07\n",
      "   --------------------------------- ------ 19.9/24.0 MB 604.6 kB/s eta 0:00:07\n",
      "   --------------------------------- ------ 19.9/24.0 MB 604.6 kB/s eta 0:00:07\n",
      "   --------------------------------- ------ 19.9/24.0 MB 604.6 kB/s eta 0:00:07\n",
      "   --------------------------------- ------ 19.9/24.0 MB 604.6 kB/s eta 0:00:07\n",
      "   --------------------------------- ------ 19.9/24.0 MB 604.6 kB/s eta 0:00:07\n",
      "   --------------------------------- ------ 19.9/24.0 MB 604.6 kB/s eta 0:00:07\n",
      "   --------------------------------- ------ 19.9/24.0 MB 604.6 kB/s eta 0:00:07\n",
      "   --------------------------------- ------ 19.9/24.0 MB 604.6 kB/s eta 0:00:07\n",
      "   --------------------------------- ------ 19.9/24.0 MB 553.9 kB/s eta 0:00:08\n",
      "   --------------------------------- ------ 19.9/24.0 MB 553.9 kB/s eta 0:00:08\n",
      "   --------------------------------- ------ 19.9/24.0 MB 551.1 kB/s eta 0:00:08\n",
      "   --------------------------------- ------ 19.9/24.0 MB 551.6 kB/s eta 0:00:08\n",
      "   --------------------------------- ------ 20.0/24.0 MB 550.2 kB/s eta 0:00:08\n",
      "   --------------------------------- ------ 20.0/24.0 MB 550.2 kB/s eta 0:00:08\n",
      "   --------------------------------- ------ 20.0/24.0 MB 550.2 kB/s eta 0:00:08\n",
      "   --------------------------------- ------ 20.0/24.0 MB 550.2 kB/s eta 0:00:08\n",
      "   --------------------------------- ------ 20.0/24.0 MB 550.2 kB/s eta 0:00:08\n",
      "   --------------------------------- ------ 20.0/24.0 MB 550.2 kB/s eta 0:00:08\n",
      "   --------------------------------- ------ 20.1/24.0 MB 545.2 kB/s eta 0:00:08\n",
      "   --------------------------------- ------ 20.1/24.0 MB 544.2 kB/s eta 0:00:08\n",
      "   --------------------------------- ------ 20.1/24.0 MB 543.3 kB/s eta 0:00:08\n",
      "   --------------------------------- ------ 20.1/24.0 MB 542.4 kB/s eta 0:00:08\n",
      "   --------------------------------- ------ 20.2/24.0 MB 542.0 kB/s eta 0:00:08\n",
      "   --------------------------------- ------ 20.2/24.0 MB 541.1 kB/s eta 0:00:07\n",
      "   --------------------------------- ------ 20.2/24.0 MB 540.2 kB/s eta 0:00:07\n",
      "   --------------------------------- ------ 20.3/24.0 MB 540.6 kB/s eta 0:00:07\n",
      "   --------------------------------- ------ 20.3/24.0 MB 540.6 kB/s eta 0:00:07\n",
      "   --------------------------------- ------ 20.4/24.0 MB 539.7 kB/s eta 0:00:07\n",
      "   ---------------------------------- ----- 20.4/24.0 MB 539.3 kB/s eta 0:00:07\n",
      "   ---------------------------------- ----- 20.5/24.0 MB 539.3 kB/s eta 0:00:07\n",
      "   ---------------------------------- ----- 20.5/24.0 MB 538.4 kB/s eta 0:00:07\n",
      "   ---------------------------------- ----- 20.5/24.0 MB 538.4 kB/s eta 0:00:07\n",
      "   ---------------------------------- ----- 20.5/24.0 MB 538.4 kB/s eta 0:00:07\n",
      "   ---------------------------------- ----- 20.6/24.0 MB 536.7 kB/s eta 0:00:07\n",
      "   ---------------------------------- ----- 20.7/24.0 MB 538.0 kB/s eta 0:00:07\n",
      "   ---------------------------------- ----- 20.7/24.0 MB 538.4 kB/s eta 0:00:07\n",
      "   ---------------------------------- ----- 20.7/24.0 MB 538.4 kB/s eta 0:00:07\n",
      "   ---------------------------------- ----- 20.7/24.0 MB 534.9 kB/s eta 0:00:07\n",
      "   ---------------------------------- ----- 20.8/24.0 MB 534.5 kB/s eta 0:00:07\n",
      "   ---------------------------------- ----- 20.8/24.0 MB 534.0 kB/s eta 0:00:06\n",
      "   ---------------------------------- ----- 20.8/24.0 MB 534.4 kB/s eta 0:00:06\n",
      "   ---------------------------------- ----- 20.9/24.0 MB 534.0 kB/s eta 0:00:06\n",
      "   ---------------------------------- ----- 21.0/24.0 MB 535.8 kB/s eta 0:00:06\n",
      "   ---------------------------------- ----- 21.0/24.0 MB 559.6 kB/s eta 0:00:06\n",
      "   ----------------------------------- ---- 21.0/24.0 MB 588.2 kB/s eta 0:00:06\n",
      "   ----------------------------------- ---- 21.1/24.0 MB 587.7 kB/s eta 0:00:06\n",
      "   ----------------------------------- ---- 21.1/24.0 MB 586.6 kB/s eta 0:00:05\n",
      "   ----------------------------------- ---- 21.1/24.0 MB 586.6 kB/s eta 0:00:05\n",
      "   ----------------------------------- ---- 21.1/24.0 MB 586.6 kB/s eta 0:00:05\n",
      "   ----------------------------------- ---- 21.2/24.0 MB 582.0 kB/s eta 0:00:05\n",
      "   ----------------------------------- ---- 21.2/24.0 MB 580.9 kB/s eta 0:00:05\n",
      "   ----------------------------------- ---- 21.2/24.0 MB 580.9 kB/s eta 0:00:05\n",
      "   ----------------------------------- ---- 21.2/24.0 MB 580.9 kB/s eta 0:00:05\n",
      "   ----------------------------------- ---- 21.2/24.0 MB 580.9 kB/s eta 0:00:05\n",
      "   ----------------------------------- ---- 21.2/24.0 MB 580.9 kB/s eta 0:00:05\n",
      "   ----------------------------------- ---- 21.2/24.0 MB 580.9 kB/s eta 0:00:05\n",
      "   ----------------------------------- ---- 21.2/24.0 MB 580.9 kB/s eta 0:00:05\n",
      "   ----------------------------------- ---- 21.2/24.0 MB 580.9 kB/s eta 0:00:05\n",
      "   ----------------------------------- ---- 21.2/24.0 MB 580.9 kB/s eta 0:00:05\n",
      "   ----------------------------------- ---- 21.2/24.0 MB 580.9 kB/s eta 0:00:05\n",
      "   ----------------------------------- ---- 21.2/24.0 MB 580.9 kB/s eta 0:00:05\n",
      "   ----------------------------------- ---- 21.2/24.0 MB 580.9 kB/s eta 0:00:05\n",
      "   ----------------------------------- ---- 21.2/24.0 MB 580.9 kB/s eta 0:00:05\n",
      "   ----------------------------------- ---- 21.2/24.0 MB 580.9 kB/s eta 0:00:05\n",
      "   ----------------------------------- ---- 21.2/24.0 MB 580.9 kB/s eta 0:00:05\n",
      "   ----------------------------------- ---- 21.2/24.0 MB 580.9 kB/s eta 0:00:05\n",
      "   ----------------------------------- ---- 21.2/24.0 MB 580.9 kB/s eta 0:00:05\n",
      "   ----------------------------------- ---- 21.2/24.0 MB 556.2 kB/s eta 0:00:06\n",
      "   ----------------------------------- ---- 21.2/24.0 MB 556.2 kB/s eta 0:00:06\n",
      "   ----------------------------------- ---- 21.3/24.0 MB 556.7 kB/s eta 0:00:05\n",
      "   ----------------------------------- ---- 21.3/24.0 MB 559.1 kB/s eta 0:00:05\n",
      "   ----------------------------------- ---- 21.3/24.0 MB 559.6 kB/s eta 0:00:05\n",
      "   ----------------------------------- ---- 21.3/24.0 MB 559.6 kB/s eta 0:00:05\n",
      "   ----------------------------------- ---- 21.3/24.0 MB 559.6 kB/s eta 0:00:05\n",
      "   ----------------------------------- ---- 21.4/24.0 MB 555.8 kB/s eta 0:00:05\n",
      "   ----------------------------------- ---- 21.4/24.0 MB 556.3 kB/s eta 0:00:05\n",
      "   ----------------------------------- ---- 21.4/24.0 MB 556.3 kB/s eta 0:00:05\n",
      "   ----------------------------------- ---- 21.4/24.0 MB 554.4 kB/s eta 0:00:05\n",
      "   ----------------------------------- ---- 21.4/24.0 MB 554.4 kB/s eta 0:00:05\n",
      "   ----------------------------------- ---- 21.5/24.0 MB 552.5 kB/s eta 0:00:05\n",
      "   ----------------------------------- ---- 21.5/24.0 MB 551.6 kB/s eta 0:00:05\n",
      "   ----------------------------------- ---- 21.5/24.0 MB 549.7 kB/s eta 0:00:05\n",
      "   ----------------------------------- ---- 21.5/24.0 MB 549.2 kB/s eta 0:00:05\n",
      "   ----------------------------------- ---- 21.6/24.0 MB 549.7 kB/s eta 0:00:05\n",
      "   ------------------------------------ --- 21.6/24.0 MB 550.2 kB/s eta 0:00:05\n",
      "   ------------------------------------ --- 21.7/24.0 MB 549.7 kB/s eta 0:00:05\n",
      "   ------------------------------------ --- 21.7/24.0 MB 550.6 kB/s eta 0:00:05\n",
      "   ------------------------------------ --- 21.8/24.0 MB 553.0 kB/s eta 0:00:04\n",
      "   ------------------------------------ --- 21.8/24.0 MB 552.0 kB/s eta 0:00:04\n",
      "   ------------------------------------ --- 21.9/24.0 MB 551.6 kB/s eta 0:00:04\n",
      "   ------------------------------------ --- 22.0/24.0 MB 554.4 kB/s eta 0:00:04\n",
      "   ------------------------------------ --- 22.0/24.0 MB 553.9 kB/s eta 0:00:04\n",
      "   ------------------------------------ --- 22.1/24.0 MB 554.4 kB/s eta 0:00:04\n",
      "   ------------------------------------ --- 22.1/24.0 MB 554.4 kB/s eta 0:00:04\n",
      "   ------------------------------------ --- 22.2/24.0 MB 554.8 kB/s eta 0:00:04\n",
      "   ------------------------------------- -- 22.2/24.0 MB 555.8 kB/s eta 0:00:04\n",
      "   ------------------------------------- -- 22.3/24.0 MB 555.8 kB/s eta 0:00:04\n",
      "   ------------------------------------- -- 22.4/24.0 MB 556.3 kB/s eta 0:00:03\n",
      "   ------------------------------------- -- 22.4/24.0 MB 556.7 kB/s eta 0:00:03\n",
      "   ------------------------------------- -- 22.5/24.0 MB 556.7 kB/s eta 0:00:03\n",
      "   ------------------------------------- -- 22.6/24.0 MB 557.7 kB/s eta 0:00:03\n",
      "   ------------------------------------- -- 22.6/24.0 MB 557.7 kB/s eta 0:00:03\n",
      "   ------------------------------------- -- 22.6/24.0 MB 554.4 kB/s eta 0:00:03\n",
      "   ------------------------------------- -- 22.7/24.0 MB 555.3 kB/s eta 0:00:03\n",
      "   ------------------------------------- -- 22.8/24.0 MB 556.7 kB/s eta 0:00:03\n",
      "   ------------------------------------- -- 22.8/24.0 MB 556.7 kB/s eta 0:00:03\n",
      "   ------------------------------------- -- 22.8/24.0 MB 555.8 kB/s eta 0:00:03\n",
      "   -------------------------------------- - 22.9/24.0 MB 555.8 kB/s eta 0:00:03\n",
      "   -------------------------------------- - 23.0/24.0 MB 557.7 kB/s eta 0:00:02\n",
      "   -------------------------------------- - 23.0/24.0 MB 557.2 kB/s eta 0:00:02\n",
      "   -------------------------------------- - 23.1/24.0 MB 558.1 kB/s eta 0:00:02\n",
      "   -------------------------------------- - 23.1/24.0 MB 558.1 kB/s eta 0:00:02\n",
      "   -------------------------------------- - 23.2/24.0 MB 558.1 kB/s eta 0:00:02\n",
      "   -------------------------------------- - 23.3/24.0 MB 559.1 kB/s eta 0:00:02\n",
      "   -------------------------------------- - 23.3/24.0 MB 559.1 kB/s eta 0:00:02\n",
      "   -------------------------------------- - 23.3/24.0 MB 559.1 kB/s eta 0:00:02\n",
      "   -------------------------------------- - 23.3/24.0 MB 559.1 kB/s eta 0:00:02\n",
      "   -------------------------------------- - 23.3/24.0 MB 559.1 kB/s eta 0:00:02\n",
      "   -------------------------------------- - 23.3/24.0 MB 559.1 kB/s eta 0:00:02\n",
      "   -------------------------------------- - 23.3/24.0 MB 559.1 kB/s eta 0:00:02\n",
      "   -------------------------------------- - 23.3/24.0 MB 559.1 kB/s eta 0:00:02\n",
      "   -------------------------------------- - 23.3/24.0 MB 559.1 kB/s eta 0:00:02\n",
      "   -------------------------------------- - 23.3/24.0 MB 559.1 kB/s eta 0:00:02\n",
      "   -------------------------------------- - 23.3/24.0 MB 559.1 kB/s eta 0:00:02\n",
      "   -------------------------------------- - 23.3/24.0 MB 559.1 kB/s eta 0:00:02\n",
      "   -------------------------------------- - 23.3/24.0 MB 559.1 kB/s eta 0:00:02\n",
      "   -------------------------------------- - 23.3/24.0 MB 559.1 kB/s eta 0:00:02\n",
      "   -------------------------------------- - 23.3/24.0 MB 559.1 kB/s eta 0:00:02\n",
      "   -------------------------------------- - 23.3/24.0 MB 559.1 kB/s eta 0:00:02\n",
      "   -------------------------------------- - 23.3/24.0 MB 538.0 kB/s eta 0:00:02\n",
      "   -------------------------------------- - 23.3/24.0 MB 536.6 kB/s eta 0:00:02\n",
      "   -------------------------------------- - 23.3/24.0 MB 536.6 kB/s eta 0:00:02\n",
      "   -------------------------------------- - 23.3/24.0 MB 535.3 kB/s eta 0:00:02\n",
      "   -------------------------------------- - 23.3/24.0 MB 535.3 kB/s eta 0:00:02\n",
      "   -------------------------------------- - 23.3/24.0 MB 535.3 kB/s eta 0:00:02\n",
      "   -------------------------------------- - 23.4/24.0 MB 531.9 kB/s eta 0:00:02\n",
      "   -------------------------------------- - 23.4/24.0 MB 531.4 kB/s eta 0:00:02\n",
      "   ---------------------------------------  23.4/24.0 MB 530.6 kB/s eta 0:00:02\n",
      "   ---------------------------------------  23.4/24.0 MB 530.6 kB/s eta 0:00:02\n",
      "   ---------------------------------------  23.4/24.0 MB 530.6 kB/s eta 0:00:02\n",
      "   ---------------------------------------  23.5/24.0 MB 527.1 kB/s eta 0:00:02\n",
      "   ---------------------------------------  23.5/24.0 MB 526.3 kB/s eta 0:00:02\n",
      "   ---------------------------------------  23.5/24.0 MB 525.9 kB/s eta 0:00:01\n",
      "   ---------------------------------------  23.5/24.0 MB 525.9 kB/s eta 0:00:01\n",
      "   ---------------------------------------  23.5/24.0 MB 525.9 kB/s eta 0:00:01\n",
      "   ---------------------------------------  23.5/24.0 MB 525.9 kB/s eta 0:00:01\n",
      "   ---------------------------------------  23.5/24.0 MB 525.9 kB/s eta 0:00:01\n",
      "   ---------------------------------------  23.5/24.0 MB 525.9 kB/s eta 0:00:01\n",
      "   ---------------------------------------  23.5/24.0 MB 525.9 kB/s eta 0:00:01\n",
      "   ---------------------------------------  23.5/24.0 MB 525.9 kB/s eta 0:00:01\n",
      "   ---------------------------------------  23.5/24.0 MB 525.9 kB/s eta 0:00:01\n",
      "   ---------------------------------------  23.5/24.0 MB 525.9 kB/s eta 0:00:01\n",
      "   ---------------------------------------  23.5/24.0 MB 525.9 kB/s eta 0:00:01\n",
      "   ---------------------------------------  23.5/24.0 MB 525.9 kB/s eta 0:00:01\n",
      "   ---------------------------------------  23.5/24.0 MB 525.9 kB/s eta 0:00:01\n",
      "   ---------------------------------------  23.5/24.0 MB 525.9 kB/s eta 0:00:01\n",
      "   ---------------------------------------  23.8/24.0 MB 515.5 kB/s eta 0:00:01\n",
      "   ---------------------------------------  23.8/24.0 MB 515.5 kB/s eta 0:00:01\n",
      "   ---------------------------------------  23.8/24.0 MB 514.3 kB/s eta 0:00:01\n",
      "   ---------------------------------------  23.9/24.0 MB 512.7 kB/s eta 0:00:01\n",
      "   ---------------------------------------  23.9/24.0 MB 511.9 kB/s eta 0:00:01\n",
      "   ---------------------------------------  24.0/24.0 MB 513.1 kB/s eta 0:00:01\n",
      "   ---------------------------------------  24.0/24.0 MB 513.9 kB/s eta 0:00:01\n",
      "   ---------------------------------------  24.0/24.0 MB 513.9 kB/s eta 0:00:01\n",
      "   ---------------------------------------  24.0/24.0 MB 513.9 kB/s eta 0:00:01\n",
      "   ---------------------------------------- 24.0/24.0 MB 511.3 kB/s eta 0:00:00\n",
      "Installing collected packages: gensim\n",
      "Successfully installed gensim-4.3.3\n",
      "Note: you may need to restart the kernel to use updated packages.\n"
     ]
    }
   ],
   "source": [
    "%pip install --upgrade gensim nltk"
   ]
  },
  {
   "cell_type": "code",
   "execution_count": 1,
   "metadata": {},
   "outputs": [
    {
     "name": "stderr",
     "output_type": "stream",
     "text": [
      "[nltk_data] Downloading package punkt to\n",
      "[nltk_data]     C:\\Users\\DELL\\AppData\\Roaming\\nltk_data...\n",
      "[nltk_data]   Package punkt is already up-to-date!\n"
     ]
    },
    {
     "name": "stdout",
     "output_type": "stream",
     "text": [
      "Vector for 'cat':\n",
      "[ 9.4563962e-05  3.0773198e-03 -6.8126451e-03 -1.3754654e-03\n",
      "  7.6685809e-03  7.3464094e-03 -3.6732971e-03  2.6427018e-03\n",
      " -8.3171297e-03  6.2054861e-03 -4.6373224e-03 -3.1641065e-03\n",
      "  9.3113566e-03  8.7338570e-04  7.4907029e-03 -6.0740625e-03\n",
      "  5.1605068e-03  9.9228229e-03 -8.4573915e-03 -5.1356913e-03\n",
      " -7.0648370e-03 -4.8626517e-03 -3.7785638e-03 -8.5361991e-03\n",
      "  7.9556061e-03 -4.8439382e-03  8.4236134e-03  5.2625705e-03\n",
      " -6.5500261e-03  3.9578713e-03  5.4701497e-03 -7.4265362e-03\n",
      " -7.4057197e-03 -2.4752307e-03 -8.6257253e-03 -1.5815723e-03\n",
      " -4.0343284e-04  3.2996845e-03  1.4418805e-03 -8.8142155e-04\n",
      " -5.5940580e-03  1.7303658e-03 -8.9737179e-04  6.7936908e-03\n",
      "  3.9735902e-03  4.5294715e-03  1.4343059e-03 -2.6998555e-03\n",
      " -4.3668128e-03 -1.0320747e-03  1.4370275e-03 -2.6460087e-03\n",
      " -7.0737829e-03 -7.8053069e-03 -9.1217868e-03 -5.9351693e-03\n",
      " -1.8474245e-03 -4.3238713e-03 -6.4606704e-03 -3.7173224e-03\n",
      "  4.2891586e-03 -3.7390434e-03  8.3781751e-03  1.5339935e-03\n",
      " -7.2423196e-03  9.4337985e-03  7.6312125e-03  5.4932819e-03\n",
      " -6.8488456e-03  5.8226790e-03  4.0090932e-03  5.1853694e-03\n",
      "  4.2559016e-03  1.9397545e-03 -3.1701624e-03  8.3538452e-03\n",
      "  9.6121803e-03  3.7926030e-03 -2.8369951e-03  7.1275235e-06\n",
      "  1.2188185e-03 -8.4583247e-03 -8.2239453e-03 -2.3101569e-04\n",
      "  1.2372875e-03 -5.7433806e-03 -4.7252737e-03 -7.3460746e-03\n",
      "  8.3286157e-03  1.2129784e-04 -4.5093987e-03  5.7017053e-03\n",
      "  9.1800150e-03 -4.0998720e-03  7.9646818e-03  5.3754342e-03\n",
      "  5.8791232e-03  5.1259040e-04  8.2130842e-03 -7.0190406e-03]\n",
      "\n",
      "Similar words to 'cat':\n",
      "[('sat', 0.1991206258535385), ('barked', 0.17018885910511017), ('mat', 0.14595060050487518)]\n"
     ]
    }
   ],
   "source": [
    "\n",
    "from gensim.models import Word2Vec\n",
    "from nltk.tokenize import word_tokenize\n",
    "import nltk\n",
    "nltk.download('punkt')  # Download required tokenizer data\n",
    "\n",
    "# Sample corpus\n",
    "corpus = [\n",
    "    \"The cat sat on the mat.\",\n",
    "    \"The dog barked at the cat.\"\n",
    "]\n",
    "\n",
    "# Tokenize sentences\n",
    "tokenized_corpus = [word_tokenize(sentence.lower()) for sentence in corpus]\n",
    "\n",
    "# Train Word2Vec model\n",
    "model = Word2Vec(sentences=tokenized_corpus, vector_size=100, window=5, min_count=1, workers=4, sg=0)\n",
    "\n",
    "# Get vector representation of a word\n",
    "print(\"Vector for 'cat':\")\n",
    "print(model.wv['cat'])  # Prints word embedding for 'cat'\n",
    "\n",
    "# Find similar words\n",
    "print(\"\\nSimilar words to 'cat':\")\n",
    "print(model.wv.most_similar('cat', topn=3))"
   ]
  },
  {
   "cell_type": "markdown",
   "metadata": {},
   "source": [
    "✅ Pros: Captures meaning & context\n",
    "\n",
    "❌ Cons: Requires a large dataset for better results"
   ]
  },
  {
   "cell_type": "markdown",
   "metadata": {},
   "source": [
    "## **📌 5. Advanced: Using Pretrained Word Embeddings**\n",
    "\n",
    "Instead of training our own embeddings, we can use pretrained models like GloVe or FastText.\n",
    "\n",
    "**🛠 Code Example: Using Pretrained GloVe Embeddings**"
   ]
  },
  {
   "cell_type": "code",
   "execution_count": 4,
   "metadata": {},
   "outputs": [
    {
     "name": "stdout",
     "output_type": "stream",
     "text": [
      "[ 0.23088    0.28283    0.6318    -0.59411   -0.58599    0.63255\n",
      "  0.24402   -0.14108    0.060815  -0.7898    -0.29102    0.14287\n",
      "  0.72274    0.20428    0.1407     0.98757    0.52533    0.097456\n",
      "  0.8822     0.51221    0.40204    0.21169   -0.013109  -0.71616\n",
      "  0.55387    1.1452    -0.88044   -0.50216   -0.22814    0.023885\n",
      "  0.1072     0.083739   0.55015    0.58479    0.75816    0.45706\n",
      " -0.28001    0.25225    0.68965   -0.60972    0.19578    0.044209\n",
      " -0.31136   -0.68826   -0.22721    0.46185   -0.77162    0.10208\n",
      "  0.55636    0.067417  -0.57207    0.23735    0.4717     0.82765\n",
      " -0.29263   -1.3422    -0.099277   0.28139    0.41604    0.10583\n",
      "  0.62203    0.89496   -0.23446    0.51349    0.99379    1.1846\n",
      " -0.16364    0.20653    0.73854    0.24059   -0.96473    0.13481\n",
      " -0.0072484  0.33016   -0.12365    0.27191   -0.40951    0.021909\n",
      " -0.6069     0.40755    0.19566   -0.41802    0.18636   -0.032652\n",
      " -0.78571   -0.13847    0.044007  -0.084423   0.04911    0.24104\n",
      "  0.45273   -0.18682    0.46182    0.089068  -0.18185   -0.01523\n",
      " -0.7368    -0.14532    0.15104   -0.71493  ]\n"
     ]
    }
   ],
   "source": [
    "import gensim.downloader as api\n",
    "\n",
    "# Load pretrained word embeddings\n",
    "glove_vectors = api.load(\"glove-wiki-gigaword-100\")\n",
    "\n",
    "# Get vector for a word\n",
    "print(glove_vectors['cat'])  # Prints GloVe vector for 'cat'\n"
   ]
  },
  {
   "cell_type": "markdown",
   "metadata": {},
   "source": [
    "💡 Pretrained models are more accurate because they are trained on huge datasets!\n",
    "\n"
   ]
  },
  {
   "cell_type": "markdown",
   "metadata": {},
   "source": [
    "## **🎯 6. Mini Project: Comparing BoW, TF-IDF, and Word Embeddings**\n",
    "\n",
    "**📌 Task:**\n",
    "\n",
    "1️⃣ Convert the following text into numerical representations using BoW, TF-IDF, and Word2Vec\n",
    "\n",
    "corpus = [\"Machine Learning is amazing!\", \"Deep Learning is a subset of Machine Learning.\"]\n",
    "\n",
    "2️⃣ Compare the size and quality of the numerical outputs."
   ]
  },
  {
   "cell_type": "markdown",
   "metadata": {},
   "source": [
    "# **📌 Module 4: NLP Pipeline & Named Entity Recognition (NER)**\n",
    "\n",
    "**Objective:**\n",
    "\n",
    "- Understand the NLP pipeline and how text is processed step by step\n",
    "- Learn about Named Entity Recognition (NER) for extracting information\n",
    "- Implement practical NER models using spaCy and NLTK\n",
    "\n",
    "## **🚀 1. Understanding the NLP Pipeline**\n",
    "\n",
    "### **📝 1.1 What is an NLP Pipeline?**\n",
    "\n",
    "An NLP pipeline is a sequence of preprocessing and analysis steps used to convert raw text into structured data for machine learning.\n",
    "\n",
    "🔹 Steps in an NLP Pipeline:\n",
    "\n",
    "1️⃣ Text Cleaning & Preprocessing – Tokenization, Stopword Removal, Lemmatization\n",
    "\n",
    "2️⃣ Text Representation – Bag of Words, TF-IDF, Word Embeddings (covered in Module 3)\n",
    "\n",
    "3️⃣ Feature Engineering – N-grams, POS tagging, Named Entity Recognition\n",
    "\n",
    "4️⃣ Model Training & Prediction – Using ML/DL models for classification, sentiment analysis, etc.\n",
    "\n",
    "Additional Link : https://www.geeksforgeeks.org/natural-language-processing-nlp-pipeline/\n"
   ]
  },
  {
   "cell_type": "markdown",
   "metadata": {},
   "source": [
    "\n",
    "## **🛠 2. Implementing an NLP Pipeline in Python**\n",
    "\n",
    "Let’s build an NLP pipeline using spaCy."
   ]
  },
  {
   "cell_type": "code",
   "execution_count": null,
   "metadata": {},
   "outputs": [],
   "source": [
    "import spacy\n",
    "\n",
    "# Load English NLP model\n",
    "nlp = spacy.load(\"en_core_web_sm\")\n",
    "\n",
    "# Sample text\n",
    "text = \"Apple Inc. was founded by Steve Jobs, Steve Wozniak, and Ronald Wayne in 1976.\"\n",
    "\n",
    "# Process the text\n",
    "doc = nlp(text)\n",
    "\n",
    "# Print tokens\n",
    "print(\"Tokens:\", [token.text for token in doc])\n",
    "\n",
    "# Print named entities\n",
    "print(\"Named Entities:\", [(ent.text, ent.label_) for ent in doc.ents])\n"
   ]
  },
  {
   "cell_type": "raw",
   "metadata": {
    "vscode": {
     "languageId": "raw"
    }
   },
   "source": [
    "Tokens: ['Apple', 'Inc.', 'was', 'founded', 'by', 'Steve', 'Jobs', ...]\n",
    "Named Entities: [('Apple Inc.', 'ORG'), ('Steve Jobs', 'PERSON'), ('1976', 'DATE')]"
   ]
  },
  {
   "cell_type": "markdown",
   "metadata": {
    "vscode": {
     "languageId": "raw"
    }
   },
   "source": [
    "**Explanation:**\n",
    "\n",
    "- Apple Inc. is recognized as an organization (ORG)\n",
    "- Steve Jobs is identified as a person (PERSON)\n",
    "- 1976 is detected as a date (DATE)"
   ]
  },
  {
   "cell_type": "markdown",
   "metadata": {},
   "source": [
    "## **📌 3. Named Entity Recognition (NER)**\n",
    "\n",
    "### **📝 3.1 What is Named Entity Recognition?**\n",
    "\n",
    "NER is a technique to extract important information from text by identifying names, locations, organizations, dates, and more."
   ]
  },
  {
   "cell_type": "raw",
   "metadata": {
    "vscode": {
     "languageId": "raw"
    }
   },
   "source": [
    "🔹 Common Entity Types:\n",
    "\n",
    "Entity Type\t            Description\t                   Example\n",
    "PERSON\t                Names of people\t        Elon Musk, Barack Obama\n",
    "ORG\t                    Organizations\t        Google, Microsoft\n",
    "GPE\t                Geopolitical entities \n",
    "                    (Countries, Cities)\t           Nigeria, London\n",
    "DATE\t            Dates and years\t                July 4, 2023\n",
    "MONEY\t               Monetary values\t            $100, 500 euros"
   ]
  },
  {
   "cell_type": "markdown",
   "metadata": {},
   "source": [
    "## Rule-based vs ML-based NER\n",
    "\n",
    "In Named Entity Recognition (NER), a rule-based approach relies on manually defined patterns and linguistic rules to identify entities in text, while an ML-based approach uses machine learning models trained on labeled data to recognize entities, allowing for greater adaptability to new data and complex linguistic variations. \n",
    "\n",
    "### Key Differences:\n",
    "\n",
    "#### Rule Creation:\n",
    "- **Rule-based NER** requires experts to craft specific rules based on grammar and syntax, like using regular expressions to match patterns.\n",
    "- **ML-based NER** learns patterns from large datasets through training. \n",
    "\n",
    "#### Flexibility:\n",
    "- **Rule-based systems** are less flexible and struggle with ambiguous or novel language constructs.\n",
    "- **ML models** can adapt to new situations and variations in language usage. \n",
    "\n",
    "#### Data Requirements:\n",
    "- **Rule-based systems** require less training data as they rely on predefined rules.\n",
    "- **ML-based systems** need large amounts of annotated data for effective training. \n",
    "\n",
    "### Advantages of Rule-based NER:\n",
    "- **Interpretability**: Easy to understand how the system identifies entities due to the explicit rules.\n",
    "- **Faster development**: Can be implemented quickly for well-defined tasks with clear patterns.\n",
    "- **Domain-specific expertise**: Can be tailored to specific domains with custom rules. \n",
    "\n",
    "### Advantages of ML-based NER:\n",
    "- **Accuracy**: Can achieve higher accuracy on complex and diverse data due to learning from large datasets.\n",
    "- **Generalizability**: Can adapt to new data and language variations without manual rule adjustments.\n",
    "- **Scalability**: Can handle large volumes of text data efficiently. \n",
    "\n",
    "### Common Scenarios for Each Approach:\n",
    "\n",
    "#### Rule-based:\n",
    "- Identifying basic entities like phone numbers, email addresses, dates in structured text. \n",
    "\n",
    "#### ML-based:\n",
    "- Recognizing complex entities like people's names, locations, organizations in unstructured text with diverse language usage.\n"
   ]
  },
  {
   "cell_type": "markdown",
   "metadata": {
    "vscode": {
     "languageId": "raw"
    }
   },
   "source": [
    "### **🛠 3.2 Implementing NER using spaCy**\n",
    "\n",
    "Let’s extract named entities from a news article."
   ]
  },
  {
   "cell_type": "code",
   "execution_count": null,
   "metadata": {},
   "outputs": [],
   "source": [
    "\n",
    "import spacy\n",
    "\n",
    "nlp = spacy.load(\"en_core_web_sm\")\n",
    "\n",
    "# Sample text\n",
    "text = \"Tesla was founded by Elon Musk and is headquartered in Palo Alto, California.\"\n",
    "\n",
    "# Process the text\n",
    "doc = nlp(text)\n",
    "\n",
    "# Extract named entities\n",
    "for ent in doc.ents:\n",
    "    print(f\"{ent.text} → {ent.label_}\")\n"
   ]
  },
  {
   "cell_type": "markdown",
   "metadata": {},
   "source": [
    "✅ Output:\n",
    "\n",
    "Tesla → ORG\n",
    "\n",
    "Elon Musk → PERSON\n",
    "\n",
    "Palo Alto → GPE\n",
    "\n",
    "California → GPE\n",
    "\n",
    "✅ Key Takeaways:\n",
    "\n",
    "- Tesla is detected as an organization (ORG)\n",
    "- Elon Musk is recognized as a person (PERSON)\n",
    "- Palo Alto and California are identified as geopolitical locations (GPE)"
   ]
  },
  {
   "cell_type": "markdown",
   "metadata": {},
   "source": [
    "## **📌 4. Implementing NER using NLTK**\n",
    "\n",
    "### **📝 4.1 Using NLTK’s Built-in Named Entity Recognition**\n",
    "\n",
    "NLTK also supports Named Entity Recognition, but it requires POS tagging first."
   ]
  },
  {
   "cell_type": "code",
   "execution_count": 11,
   "metadata": {},
   "outputs": [
    {
     "name": "stderr",
     "output_type": "stream",
     "text": [
      "[nltk_data] Downloading package punkt to\n",
      "[nltk_data]     C:\\Users\\DELL\\AppData\\Roaming\\nltk_data...\n",
      "[nltk_data]   Package punkt is already up-to-date!\n",
      "[nltk_data] Downloading package averaged_perceptron_tagger_eng to\n",
      "[nltk_data]     C:\\Users\\DELL\\AppData\\Roaming\\nltk_data...\n",
      "[nltk_data]   Unzipping taggers\\averaged_perceptron_tagger_eng.zip.\n",
      "[nltk_data] Downloading package maxent_ne_chunker to\n",
      "[nltk_data]     C:\\Users\\DELL\\AppData\\Roaming\\nltk_data...\n",
      "[nltk_data]   Package maxent_ne_chunker is already up-to-date!\n",
      "[nltk_data] Downloading package words to\n",
      "[nltk_data]     C:\\Users\\DELL\\AppData\\Roaming\\nltk_data...\n",
      "[nltk_data]   Package words is already up-to-date!\n"
     ]
    },
    {
     "ename": "LookupError",
     "evalue": "\n**********************************************************************\n  Resource \u001b[93mmaxent_ne_chunker_tab\u001b[0m not found.\n  Please use the NLTK Downloader to obtain the resource:\n\n  \u001b[31m>>> import nltk\n  >>> nltk.download('maxent_ne_chunker_tab')\n  \u001b[0m\n  For more information see: https://www.nltk.org/data.html\n\n  Attempted to load \u001b[93mchunkers/maxent_ne_chunker_tab/english_ace_multiclass/\u001b[0m\n\n  Searched in:\n    - 'C:\\\\Users\\\\DELL/nltk_data'\n    - 'c:\\\\ProgramData\\\\anaconda3\\\\nltk_data'\n    - 'c:\\\\ProgramData\\\\anaconda3\\\\share\\\\nltk_data'\n    - 'c:\\\\ProgramData\\\\anaconda3\\\\lib\\\\nltk_data'\n    - 'C:\\\\Users\\\\DELL\\\\AppData\\\\Roaming\\\\nltk_data'\n    - 'C:\\\\nltk_data'\n    - 'D:\\\\nltk_data'\n    - 'E:\\\\nltk_data'\n**********************************************************************\n",
     "output_type": "error",
     "traceback": [
      "\u001b[1;31m---------------------------------------------------------------------------\u001b[0m",
      "\u001b[1;31mLookupError\u001b[0m                               Traceback (most recent call last)",
      "Cell \u001b[1;32mIn[11], line 18\u001b[0m\n\u001b[0;32m     15\u001b[0m pos_tags \u001b[38;5;241m=\u001b[39m pos_tag(tokens)\n\u001b[0;32m     17\u001b[0m \u001b[38;5;66;03m# Named Entity Recognition\u001b[39;00m\n\u001b[1;32m---> 18\u001b[0m ner_tree \u001b[38;5;241m=\u001b[39m ne_chunk(pos_tags)\n\u001b[0;32m     19\u001b[0m \u001b[38;5;28mprint\u001b[39m(ner_tree)\n",
      "File \u001b[1;32m~\\AppData\\Roaming\\Python\\Python312\\site-packages\\nltk\\chunk\\__init__.py:192\u001b[0m, in \u001b[0;36mne_chunk\u001b[1;34m(tagged_tokens, binary)\u001b[0m\n\u001b[0;32m    190\u001b[0m     chunker \u001b[38;5;241m=\u001b[39m ne_chunker(fmt\u001b[38;5;241m=\u001b[39m\u001b[38;5;124m\"\u001b[39m\u001b[38;5;124mbinary\u001b[39m\u001b[38;5;124m\"\u001b[39m)\n\u001b[0;32m    191\u001b[0m \u001b[38;5;28;01melse\u001b[39;00m:\n\u001b[1;32m--> 192\u001b[0m     chunker \u001b[38;5;241m=\u001b[39m ne_chunker()\n\u001b[0;32m    193\u001b[0m \u001b[38;5;28;01mreturn\u001b[39;00m chunker\u001b[38;5;241m.\u001b[39mparse(tagged_tokens)\n",
      "File \u001b[1;32m~\\AppData\\Roaming\\Python\\Python312\\site-packages\\nltk\\chunk\\__init__.py:174\u001b[0m, in \u001b[0;36mne_chunker\u001b[1;34m(fmt)\u001b[0m\n\u001b[0;32m    170\u001b[0m \u001b[38;5;28;01mdef\u001b[39;00m \u001b[38;5;21mne_chunker\u001b[39m(fmt\u001b[38;5;241m=\u001b[39m\u001b[38;5;124m\"\u001b[39m\u001b[38;5;124mmulticlass\u001b[39m\u001b[38;5;124m\"\u001b[39m):\n\u001b[0;32m    171\u001b[0m \u001b[38;5;250m    \u001b[39m\u001b[38;5;124;03m\"\"\"\u001b[39;00m\n\u001b[0;32m    172\u001b[0m \u001b[38;5;124;03m    Load NLTK's currently recommended named entity chunker.\u001b[39;00m\n\u001b[0;32m    173\u001b[0m \u001b[38;5;124;03m    \"\"\"\u001b[39;00m\n\u001b[1;32m--> 174\u001b[0m     \u001b[38;5;28;01mreturn\u001b[39;00m Maxent_NE_Chunker(fmt)\n",
      "File \u001b[1;32m~\\AppData\\Roaming\\Python\\Python312\\site-packages\\nltk\\chunk\\named_entity.py:329\u001b[0m, in \u001b[0;36mMaxent_NE_Chunker.__init__\u001b[1;34m(self, fmt)\u001b[0m\n\u001b[0;32m    326\u001b[0m \u001b[38;5;28;01mfrom\u001b[39;00m \u001b[38;5;21;01mnltk\u001b[39;00m\u001b[38;5;21;01m.\u001b[39;00m\u001b[38;5;21;01mdata\u001b[39;00m \u001b[38;5;28;01mimport\u001b[39;00m find\n\u001b[0;32m    328\u001b[0m \u001b[38;5;28mself\u001b[39m\u001b[38;5;241m.\u001b[39m_fmt \u001b[38;5;241m=\u001b[39m fmt\n\u001b[1;32m--> 329\u001b[0m \u001b[38;5;28mself\u001b[39m\u001b[38;5;241m.\u001b[39m_tab_dir \u001b[38;5;241m=\u001b[39m find(\u001b[38;5;124mf\u001b[39m\u001b[38;5;124m\"\u001b[39m\u001b[38;5;124mchunkers/maxent_ne_chunker_tab/english_ace_\u001b[39m\u001b[38;5;132;01m{\u001b[39;00mfmt\u001b[38;5;132;01m}\u001b[39;00m\u001b[38;5;124m/\u001b[39m\u001b[38;5;124m\"\u001b[39m)\n\u001b[0;32m    330\u001b[0m \u001b[38;5;28mself\u001b[39m\u001b[38;5;241m.\u001b[39mload_params()\n",
      "File \u001b[1;32m~\\AppData\\Roaming\\Python\\Python312\\site-packages\\nltk\\data.py:579\u001b[0m, in \u001b[0;36mfind\u001b[1;34m(resource_name, paths)\u001b[0m\n\u001b[0;32m    577\u001b[0m sep \u001b[38;5;241m=\u001b[39m \u001b[38;5;124m\"\u001b[39m\u001b[38;5;124m*\u001b[39m\u001b[38;5;124m\"\u001b[39m \u001b[38;5;241m*\u001b[39m \u001b[38;5;241m70\u001b[39m\n\u001b[0;32m    578\u001b[0m resource_not_found \u001b[38;5;241m=\u001b[39m \u001b[38;5;124mf\u001b[39m\u001b[38;5;124m\"\u001b[39m\u001b[38;5;130;01m\\n\u001b[39;00m\u001b[38;5;132;01m{\u001b[39;00msep\u001b[38;5;132;01m}\u001b[39;00m\u001b[38;5;130;01m\\n\u001b[39;00m\u001b[38;5;132;01m{\u001b[39;00mmsg\u001b[38;5;132;01m}\u001b[39;00m\u001b[38;5;130;01m\\n\u001b[39;00m\u001b[38;5;132;01m{\u001b[39;00msep\u001b[38;5;132;01m}\u001b[39;00m\u001b[38;5;130;01m\\n\u001b[39;00m\u001b[38;5;124m\"\u001b[39m\n\u001b[1;32m--> 579\u001b[0m \u001b[38;5;28;01mraise\u001b[39;00m \u001b[38;5;167;01mLookupError\u001b[39;00m(resource_not_found)\n",
      "\u001b[1;31mLookupError\u001b[0m: \n**********************************************************************\n  Resource \u001b[93mmaxent_ne_chunker_tab\u001b[0m not found.\n  Please use the NLTK Downloader to obtain the resource:\n\n  \u001b[31m>>> import nltk\n  >>> nltk.download('maxent_ne_chunker_tab')\n  \u001b[0m\n  For more information see: https://www.nltk.org/data.html\n\n  Attempted to load \u001b[93mchunkers/maxent_ne_chunker_tab/english_ace_multiclass/\u001b[0m\n\n  Searched in:\n    - 'C:\\\\Users\\\\DELL/nltk_data'\n    - 'c:\\\\ProgramData\\\\anaconda3\\\\nltk_data'\n    - 'c:\\\\ProgramData\\\\anaconda3\\\\share\\\\nltk_data'\n    - 'c:\\\\ProgramData\\\\anaconda3\\\\lib\\\\nltk_data'\n    - 'C:\\\\Users\\\\DELL\\\\AppData\\\\Roaming\\\\nltk_data'\n    - 'C:\\\\nltk_data'\n    - 'D:\\\\nltk_data'\n    - 'E:\\\\nltk_data'\n**********************************************************************\n"
     ]
    }
   ],
   "source": [
    "import nltk\n",
    "from nltk import word_tokenize, pos_tag, ne_chunk\n",
    "\n",
    "# Download necessary NLTK resources\n",
    "nltk.download('punkt')\n",
    "nltk.download('averaged_perceptron_tagger_eng')\n",
    "nltk.download('maxent_ne_chunker')\n",
    "nltk.download('words')\n",
    "\n",
    "# Sample text\n",
    "text = \"Jeff Bezos founded Amazon in Seattle in 1994.\"\n",
    "\n",
    "# Tokenization and POS tagging\n",
    "tokens = word_tokenize(text)\n",
    "pos_tags = pos_tag(tokens)\n",
    "\n",
    "# Named Entity Recognition\n",
    "ner_tree = ne_chunk(pos_tags)\n",
    "print(ner_tree)\n"
   ]
  },
  {
   "cell_type": "markdown",
   "metadata": {},
   "source": [
    "✅ Output Example:\n",
    "\n",
    "(S\n",
    "  (PERSON Jeff/NNP)\n",
    "\n",
    "  (PERSON Bezos/NNP)\n",
    "  \n",
    "  founded/VBD\n",
    "  \n",
    "  (ORGANIZATION Amazon/NNP)\n",
    "  \n",
    "  in/IN\n",
    "  \n",
    "  (GPE Seattle/NNP)\n",
    "  \n",
    "  in/IN\n",
    "  \n",
    "  1994/CD)\n",
    "\n",
    "✅ Key Observations:\n",
    "\n",
    "Jeff Bezos → PERSON\n",
    "\n",
    "Amazon → ORGANIZATION\n",
    "\n",
    "Seattle → GPE (Geopolitical Entity)\n",
    "\n",
    "1994 → DATE"
   ]
  },
  {
   "cell_type": "markdown",
   "metadata": {},
   "source": [
    "## **📌 5. Training a Custom NER Model**\n",
    "\n",
    "Sometimes, the default NER models do not recognize custom entities (e.g., brand names, industry-specific terms). In such cases, we train our own custom NER model.\n",
    "\n",
    "### **🛠 5.1 Steps to Train a Custom NER Model**\n",
    "\n",
    "1️⃣ Define training data (annotated text)\n",
    "\n",
    "2️⃣ Load a pretrained spaCy model\n",
    "\n",
    "3️⃣ Fine-tune the model with custom entities\n",
    "\n",
    "4️⃣ Save and test the trained model\n",
    "\n",
    "🔹 Example Training Data:"
   ]
  },
  {
   "cell_type": "code",
   "execution_count": 12,
   "metadata": {},
   "outputs": [],
   "source": [
    "TRAIN_DATA = [\n",
    "    (\"TechTreendzz is a popular YouTube channel.\", {\"entities\": [(0, 12, \"ORG\")]}),\n",
    "    (\"OpenAI created ChatGPT, an AI model.\", {\"entities\": [(0, 6, \"ORG\"), (14, 21, \"PRODUCT\")]}),\n",
    "]\n"
   ]
  },
  {
   "cell_type": "markdown",
   "metadata": {},
   "source": [
    "🔹 Train & Update the Model:"
   ]
  },
  {
   "cell_type": "code",
   "execution_count": 13,
   "metadata": {},
   "outputs": [
    {
     "ename": "TypeError",
     "evalue": "ForwardRef._evaluate() missing 1 required keyword-only argument: 'recursive_guard'",
     "output_type": "error",
     "traceback": [
      "\u001b[1;31m---------------------------------------------------------------------------\u001b[0m",
      "\u001b[1;31mTypeError\u001b[0m                                 Traceback (most recent call last)",
      "Cell \u001b[1;32mIn[13], line 1\u001b[0m\n\u001b[1;32m----> 1\u001b[0m \u001b[38;5;28;01mimport\u001b[39;00m \u001b[38;5;21;01mspacy\u001b[39;00m\n\u001b[0;32m      2\u001b[0m \u001b[38;5;28;01mfrom\u001b[39;00m \u001b[38;5;21;01mspacy\u001b[39;00m\u001b[38;5;21;01m.\u001b[39;00m\u001b[38;5;21;01mtraining\u001b[39;00m\u001b[38;5;21;01m.\u001b[39;00m\u001b[38;5;21;01mexample\u001b[39;00m \u001b[38;5;28;01mimport\u001b[39;00m Example\n\u001b[0;32m      4\u001b[0m \u001b[38;5;66;03m# Load a pretrained model\u001b[39;00m\n",
      "File \u001b[1;32m~\\AppData\\Roaming\\Python\\Python312\\site-packages\\spacy\\__init__.py:13\u001b[0m\n\u001b[0;32m     10\u001b[0m \u001b[38;5;66;03m# These are imported as part of the API\u001b[39;00m\n\u001b[0;32m     11\u001b[0m \u001b[38;5;28;01mfrom\u001b[39;00m \u001b[38;5;21;01mthinc\u001b[39;00m\u001b[38;5;21;01m.\u001b[39;00m\u001b[38;5;21;01mapi\u001b[39;00m \u001b[38;5;28;01mimport\u001b[39;00m Config, prefer_gpu, require_cpu, require_gpu  \u001b[38;5;66;03m# noqa: F401\u001b[39;00m\n\u001b[1;32m---> 13\u001b[0m \u001b[38;5;28;01mfrom\u001b[39;00m \u001b[38;5;21;01m.\u001b[39;00m \u001b[38;5;28;01mimport\u001b[39;00m pipeline  \u001b[38;5;66;03m# noqa: F401\u001b[39;00m\n\u001b[0;32m     14\u001b[0m \u001b[38;5;28;01mfrom\u001b[39;00m \u001b[38;5;21;01m.\u001b[39;00m \u001b[38;5;28;01mimport\u001b[39;00m util\n\u001b[0;32m     15\u001b[0m \u001b[38;5;28;01mfrom\u001b[39;00m \u001b[38;5;21;01m.\u001b[39;00m\u001b[38;5;21;01mabout\u001b[39;00m \u001b[38;5;28;01mimport\u001b[39;00m __version__  \u001b[38;5;66;03m# noqa: F401\u001b[39;00m\n",
      "File \u001b[1;32m~\\AppData\\Roaming\\Python\\Python312\\site-packages\\spacy\\pipeline\\__init__.py:1\u001b[0m\n\u001b[1;32m----> 1\u001b[0m \u001b[38;5;28;01mfrom\u001b[39;00m \u001b[38;5;21;01m.\u001b[39;00m\u001b[38;5;21;01mattributeruler\u001b[39;00m \u001b[38;5;28;01mimport\u001b[39;00m AttributeRuler\n\u001b[0;32m      2\u001b[0m \u001b[38;5;28;01mfrom\u001b[39;00m \u001b[38;5;21;01m.\u001b[39;00m\u001b[38;5;21;01mdep_parser\u001b[39;00m \u001b[38;5;28;01mimport\u001b[39;00m DependencyParser\n\u001b[0;32m      3\u001b[0m \u001b[38;5;28;01mfrom\u001b[39;00m \u001b[38;5;21;01m.\u001b[39;00m\u001b[38;5;21;01medit_tree_lemmatizer\u001b[39;00m \u001b[38;5;28;01mimport\u001b[39;00m EditTreeLemmatizer\n",
      "File \u001b[1;32m~\\AppData\\Roaming\\Python\\Python312\\site-packages\\spacy\\pipeline\\attributeruler.py:8\u001b[0m\n\u001b[0;32m      6\u001b[0m \u001b[38;5;28;01mfrom\u001b[39;00m \u001b[38;5;21;01m.\u001b[39;00m\u001b[38;5;21;01m.\u001b[39;00m \u001b[38;5;28;01mimport\u001b[39;00m util\n\u001b[0;32m      7\u001b[0m \u001b[38;5;28;01mfrom\u001b[39;00m \u001b[38;5;21;01m.\u001b[39;00m\u001b[38;5;21;01m.\u001b[39;00m\u001b[38;5;21;01merrors\u001b[39;00m \u001b[38;5;28;01mimport\u001b[39;00m Errors\n\u001b[1;32m----> 8\u001b[0m \u001b[38;5;28;01mfrom\u001b[39;00m \u001b[38;5;21;01m.\u001b[39;00m\u001b[38;5;21;01m.\u001b[39;00m\u001b[38;5;21;01mlanguage\u001b[39;00m \u001b[38;5;28;01mimport\u001b[39;00m Language\n\u001b[0;32m      9\u001b[0m \u001b[38;5;28;01mfrom\u001b[39;00m \u001b[38;5;21;01m.\u001b[39;00m\u001b[38;5;21;01m.\u001b[39;00m\u001b[38;5;21;01mmatcher\u001b[39;00m \u001b[38;5;28;01mimport\u001b[39;00m Matcher\n\u001b[0;32m     10\u001b[0m \u001b[38;5;28;01mfrom\u001b[39;00m \u001b[38;5;21;01m.\u001b[39;00m\u001b[38;5;21;01m.\u001b[39;00m\u001b[38;5;21;01mscorer\u001b[39;00m \u001b[38;5;28;01mimport\u001b[39;00m Scorer\n",
      "File \u001b[1;32m~\\AppData\\Roaming\\Python\\Python312\\site-packages\\spacy\\language.py:46\u001b[0m\n\u001b[0;32m     44\u001b[0m \u001b[38;5;28;01mfrom\u001b[39;00m \u001b[38;5;21;01m.\u001b[39;00m\u001b[38;5;21;01mlang\u001b[39;00m\u001b[38;5;21;01m.\u001b[39;00m\u001b[38;5;21;01mtokenizer_exceptions\u001b[39;00m \u001b[38;5;28;01mimport\u001b[39;00m BASE_EXCEPTIONS, URL_MATCH\n\u001b[0;32m     45\u001b[0m \u001b[38;5;28;01mfrom\u001b[39;00m \u001b[38;5;21;01m.\u001b[39;00m\u001b[38;5;21;01mlookups\u001b[39;00m \u001b[38;5;28;01mimport\u001b[39;00m load_lookups\n\u001b[1;32m---> 46\u001b[0m \u001b[38;5;28;01mfrom\u001b[39;00m \u001b[38;5;21;01m.\u001b[39;00m\u001b[38;5;21;01mpipe_analysis\u001b[39;00m \u001b[38;5;28;01mimport\u001b[39;00m analyze_pipes, print_pipe_analysis, validate_attrs\n\u001b[0;32m     47\u001b[0m \u001b[38;5;28;01mfrom\u001b[39;00m \u001b[38;5;21;01m.\u001b[39;00m\u001b[38;5;21;01mschemas\u001b[39;00m \u001b[38;5;28;01mimport\u001b[39;00m (\n\u001b[0;32m     48\u001b[0m     ConfigSchema,\n\u001b[0;32m     49\u001b[0m     ConfigSchemaInit,\n\u001b[1;32m   (...)\u001b[0m\n\u001b[0;32m     52\u001b[0m     validate_init_settings,\n\u001b[0;32m     53\u001b[0m )\n\u001b[0;32m     54\u001b[0m \u001b[38;5;28;01mfrom\u001b[39;00m \u001b[38;5;21;01m.\u001b[39;00m\u001b[38;5;21;01mscorer\u001b[39;00m \u001b[38;5;28;01mimport\u001b[39;00m Scorer\n",
      "File \u001b[1;32m~\\AppData\\Roaming\\Python\\Python312\\site-packages\\spacy\\pipe_analysis.py:6\u001b[0m\n\u001b[0;32m      3\u001b[0m \u001b[38;5;28;01mfrom\u001b[39;00m \u001b[38;5;21;01mwasabi\u001b[39;00m \u001b[38;5;28;01mimport\u001b[39;00m msg\n\u001b[0;32m      5\u001b[0m \u001b[38;5;28;01mfrom\u001b[39;00m \u001b[38;5;21;01m.\u001b[39;00m\u001b[38;5;21;01merrors\u001b[39;00m \u001b[38;5;28;01mimport\u001b[39;00m Errors\n\u001b[1;32m----> 6\u001b[0m \u001b[38;5;28;01mfrom\u001b[39;00m \u001b[38;5;21;01m.\u001b[39;00m\u001b[38;5;21;01mtokens\u001b[39;00m \u001b[38;5;28;01mimport\u001b[39;00m Doc, Span, Token\n\u001b[0;32m      7\u001b[0m \u001b[38;5;28;01mfrom\u001b[39;00m \u001b[38;5;21;01m.\u001b[39;00m\u001b[38;5;21;01mutil\u001b[39;00m \u001b[38;5;28;01mimport\u001b[39;00m dot_to_dict\n\u001b[0;32m      9\u001b[0m \u001b[38;5;28;01mif\u001b[39;00m TYPE_CHECKING:\n\u001b[0;32m     10\u001b[0m     \u001b[38;5;66;03m# This lets us add type hints for mypy etc. without causing circular imports\u001b[39;00m\n",
      "File \u001b[1;32m~\\AppData\\Roaming\\Python\\Python312\\site-packages\\spacy\\tokens\\__init__.py:1\u001b[0m\n\u001b[1;32m----> 1\u001b[0m \u001b[38;5;28;01mfrom\u001b[39;00m \u001b[38;5;21;01m.\u001b[39;00m\u001b[38;5;21;01m_serialize\u001b[39;00m \u001b[38;5;28;01mimport\u001b[39;00m DocBin\n\u001b[0;32m      2\u001b[0m \u001b[38;5;28;01mfrom\u001b[39;00m \u001b[38;5;21;01m.\u001b[39;00m\u001b[38;5;21;01mdoc\u001b[39;00m \u001b[38;5;28;01mimport\u001b[39;00m Doc\n\u001b[0;32m      3\u001b[0m \u001b[38;5;28;01mfrom\u001b[39;00m \u001b[38;5;21;01m.\u001b[39;00m\u001b[38;5;21;01mmorphanalysis\u001b[39;00m \u001b[38;5;28;01mimport\u001b[39;00m MorphAnalysis\n",
      "File \u001b[1;32m~\\AppData\\Roaming\\Python\\Python312\\site-packages\\spacy\\tokens\\_serialize.py:14\u001b[0m\n\u001b[0;32m     12\u001b[0m \u001b[38;5;28;01mfrom\u001b[39;00m \u001b[38;5;21;01m.\u001b[39;00m\u001b[38;5;21;01m.\u001b[39;00m\u001b[38;5;21;01merrors\u001b[39;00m \u001b[38;5;28;01mimport\u001b[39;00m Errors\n\u001b[0;32m     13\u001b[0m \u001b[38;5;28;01mfrom\u001b[39;00m \u001b[38;5;21;01m.\u001b[39;00m\u001b[38;5;21;01m.\u001b[39;00m\u001b[38;5;21;01mutil\u001b[39;00m \u001b[38;5;28;01mimport\u001b[39;00m SimpleFrozenList, ensure_path\n\u001b[1;32m---> 14\u001b[0m \u001b[38;5;28;01mfrom\u001b[39;00m \u001b[38;5;21;01m.\u001b[39;00m\u001b[38;5;21;01m.\u001b[39;00m\u001b[38;5;21;01mvocab\u001b[39;00m \u001b[38;5;28;01mimport\u001b[39;00m Vocab\n\u001b[0;32m     15\u001b[0m \u001b[38;5;28;01mfrom\u001b[39;00m \u001b[38;5;21;01m.\u001b[39;00m\u001b[38;5;21;01m_dict_proxies\u001b[39;00m \u001b[38;5;28;01mimport\u001b[39;00m SpanGroups\n\u001b[0;32m     16\u001b[0m \u001b[38;5;28;01mfrom\u001b[39;00m \u001b[38;5;21;01m.\u001b[39;00m\u001b[38;5;21;01mdoc\u001b[39;00m \u001b[38;5;28;01mimport\u001b[39;00m DOCBIN_ALL_ATTRS \u001b[38;5;28;01mas\u001b[39;00m ALL_ATTRS\n",
      "File \u001b[1;32m~\\AppData\\Roaming\\Python\\Python312\\site-packages\\spacy\\vocab.pyx:1\u001b[0m, in \u001b[0;36minit spacy.vocab\u001b[1;34m()\u001b[0m\n",
      "File \u001b[1;32m~\\AppData\\Roaming\\Python\\Python312\\site-packages\\spacy\\tokens\\doc.pyx:49\u001b[0m, in \u001b[0;36minit spacy.tokens.doc\u001b[1;34m()\u001b[0m\n",
      "File \u001b[1;32m~\\AppData\\Roaming\\Python\\Python312\\site-packages\\spacy\\schemas.py:195\u001b[0m\n\u001b[0;32m    191\u001b[0m         obj \u001b[38;5;241m=\u001b[39m converted\n\u001b[0;32m    192\u001b[0m     \u001b[38;5;28;01mreturn\u001b[39;00m validate(TokenPatternSchema, {\u001b[38;5;124m\"\u001b[39m\u001b[38;5;124mpattern\u001b[39m\u001b[38;5;124m\"\u001b[39m: obj})\n\u001b[1;32m--> 195\u001b[0m \u001b[38;5;28;01mclass\u001b[39;00m \u001b[38;5;21;01mTokenPatternString\u001b[39;00m(BaseModel):\n\u001b[0;32m    196\u001b[0m     REGEX: Optional[Union[StrictStr, \u001b[38;5;124m\"\u001b[39m\u001b[38;5;124mTokenPatternString\u001b[39m\u001b[38;5;124m\"\u001b[39m]] \u001b[38;5;241m=\u001b[39m Field(\u001b[38;5;28;01mNone\u001b[39;00m, alias\u001b[38;5;241m=\u001b[39m\u001b[38;5;124m\"\u001b[39m\u001b[38;5;124mregex\u001b[39m\u001b[38;5;124m\"\u001b[39m)\n\u001b[0;32m    197\u001b[0m     IN: Optional[List[StrictStr]] \u001b[38;5;241m=\u001b[39m Field(\u001b[38;5;28;01mNone\u001b[39;00m, alias\u001b[38;5;241m=\u001b[39m\u001b[38;5;124m\"\u001b[39m\u001b[38;5;124min\u001b[39m\u001b[38;5;124m\"\u001b[39m)\n",
      "File \u001b[1;32mc:\\ProgramData\\anaconda3\\Lib\\site-packages\\pydantic\\v1\\main.py:286\u001b[0m, in \u001b[0;36mModelMetaclass.__new__\u001b[1;34m(mcs, name, bases, namespace, **kwargs)\u001b[0m\n\u001b[0;32m    284\u001b[0m \u001b[38;5;28mcls\u001b[39m\u001b[38;5;241m.\u001b[39m__signature__ \u001b[38;5;241m=\u001b[39m ClassAttribute(\u001b[38;5;124m'\u001b[39m\u001b[38;5;124m__signature__\u001b[39m\u001b[38;5;124m'\u001b[39m, generate_model_signature(\u001b[38;5;28mcls\u001b[39m\u001b[38;5;241m.\u001b[39m\u001b[38;5;21m__init__\u001b[39m, fields, config))\n\u001b[0;32m    285\u001b[0m \u001b[38;5;28;01mif\u001b[39;00m resolve_forward_refs:\n\u001b[1;32m--> 286\u001b[0m     \u001b[38;5;28mcls\u001b[39m\u001b[38;5;241m.\u001b[39m__try_update_forward_refs__()\n\u001b[0;32m    288\u001b[0m \u001b[38;5;66;03m# preserve `__set_name__` protocol defined in https://peps.python.org/pep-0487\u001b[39;00m\n\u001b[0;32m    289\u001b[0m \u001b[38;5;66;03m# for attributes not in `new_namespace` (e.g. private attributes)\u001b[39;00m\n\u001b[0;32m    290\u001b[0m \u001b[38;5;28;01mfor\u001b[39;00m name, obj \u001b[38;5;129;01min\u001b[39;00m namespace\u001b[38;5;241m.\u001b[39mitems():\n",
      "File \u001b[1;32mc:\\ProgramData\\anaconda3\\Lib\\site-packages\\pydantic\\v1\\main.py:808\u001b[0m, in \u001b[0;36mBaseModel.__try_update_forward_refs__\u001b[1;34m(cls, **localns)\u001b[0m\n\u001b[0;32m    802\u001b[0m \u001b[38;5;129m@classmethod\u001b[39m\n\u001b[0;32m    803\u001b[0m \u001b[38;5;28;01mdef\u001b[39;00m \u001b[38;5;21m__try_update_forward_refs__\u001b[39m(\u001b[38;5;28mcls\u001b[39m, \u001b[38;5;241m*\u001b[39m\u001b[38;5;241m*\u001b[39mlocalns: Any) \u001b[38;5;241m-\u001b[39m\u001b[38;5;241m>\u001b[39m \u001b[38;5;28;01mNone\u001b[39;00m:\n\u001b[0;32m    804\u001b[0m \u001b[38;5;250m    \u001b[39m\u001b[38;5;124;03m\"\"\"\u001b[39;00m\n\u001b[0;32m    805\u001b[0m \u001b[38;5;124;03m    Same as update_forward_refs but will not raise exception\u001b[39;00m\n\u001b[0;32m    806\u001b[0m \u001b[38;5;124;03m    when forward references are not defined.\u001b[39;00m\n\u001b[0;32m    807\u001b[0m \u001b[38;5;124;03m    \"\"\"\u001b[39;00m\n\u001b[1;32m--> 808\u001b[0m     update_model_forward_refs(\u001b[38;5;28mcls\u001b[39m, \u001b[38;5;28mcls\u001b[39m\u001b[38;5;241m.\u001b[39m__fields__\u001b[38;5;241m.\u001b[39mvalues(), \u001b[38;5;28mcls\u001b[39m\u001b[38;5;241m.\u001b[39m__config__\u001b[38;5;241m.\u001b[39mjson_encoders, localns, (\u001b[38;5;167;01mNameError\u001b[39;00m,))\n",
      "File \u001b[1;32mc:\\ProgramData\\anaconda3\\Lib\\site-packages\\pydantic\\v1\\typing.py:554\u001b[0m, in \u001b[0;36mupdate_model_forward_refs\u001b[1;34m(model, fields, json_encoders, localns, exc_to_suppress)\u001b[0m\n\u001b[0;32m    552\u001b[0m \u001b[38;5;28;01mfor\u001b[39;00m f \u001b[38;5;129;01min\u001b[39;00m fields:\n\u001b[0;32m    553\u001b[0m     \u001b[38;5;28;01mtry\u001b[39;00m:\n\u001b[1;32m--> 554\u001b[0m         update_field_forward_refs(f, globalns\u001b[38;5;241m=\u001b[39mglobalns, localns\u001b[38;5;241m=\u001b[39mlocalns)\n\u001b[0;32m    555\u001b[0m     \u001b[38;5;28;01mexcept\u001b[39;00m exc_to_suppress:\n\u001b[0;32m    556\u001b[0m         \u001b[38;5;28;01mpass\u001b[39;00m\n",
      "File \u001b[1;32mc:\\ProgramData\\anaconda3\\Lib\\site-packages\\pydantic\\v1\\typing.py:529\u001b[0m, in \u001b[0;36mupdate_field_forward_refs\u001b[1;34m(field, globalns, localns)\u001b[0m\n\u001b[0;32m    527\u001b[0m \u001b[38;5;28;01mif\u001b[39;00m field\u001b[38;5;241m.\u001b[39msub_fields:\n\u001b[0;32m    528\u001b[0m     \u001b[38;5;28;01mfor\u001b[39;00m sub_f \u001b[38;5;129;01min\u001b[39;00m field\u001b[38;5;241m.\u001b[39msub_fields:\n\u001b[1;32m--> 529\u001b[0m         update_field_forward_refs(sub_f, globalns\u001b[38;5;241m=\u001b[39mglobalns, localns\u001b[38;5;241m=\u001b[39mlocalns)\n\u001b[0;32m    531\u001b[0m \u001b[38;5;28;01mif\u001b[39;00m field\u001b[38;5;241m.\u001b[39mdiscriminator_key \u001b[38;5;129;01mis\u001b[39;00m \u001b[38;5;129;01mnot\u001b[39;00m \u001b[38;5;28;01mNone\u001b[39;00m:\n\u001b[0;32m    532\u001b[0m     field\u001b[38;5;241m.\u001b[39mprepare_discriminated_union_sub_fields()\n",
      "File \u001b[1;32mc:\\ProgramData\\anaconda3\\Lib\\site-packages\\pydantic\\v1\\typing.py:520\u001b[0m, in \u001b[0;36mupdate_field_forward_refs\u001b[1;34m(field, globalns, localns)\u001b[0m\n\u001b[0;32m    518\u001b[0m \u001b[38;5;28;01mif\u001b[39;00m field\u001b[38;5;241m.\u001b[39mtype_\u001b[38;5;241m.\u001b[39m\u001b[38;5;18m__class__\u001b[39m \u001b[38;5;241m==\u001b[39m ForwardRef:\n\u001b[0;32m    519\u001b[0m     prepare \u001b[38;5;241m=\u001b[39m \u001b[38;5;28;01mTrue\u001b[39;00m\n\u001b[1;32m--> 520\u001b[0m     field\u001b[38;5;241m.\u001b[39mtype_ \u001b[38;5;241m=\u001b[39m evaluate_forwardref(field\u001b[38;5;241m.\u001b[39mtype_, globalns, localns \u001b[38;5;129;01mor\u001b[39;00m \u001b[38;5;28;01mNone\u001b[39;00m)\n\u001b[0;32m    521\u001b[0m \u001b[38;5;28;01mif\u001b[39;00m field\u001b[38;5;241m.\u001b[39mouter_type_\u001b[38;5;241m.\u001b[39m\u001b[38;5;18m__class__\u001b[39m \u001b[38;5;241m==\u001b[39m ForwardRef:\n\u001b[0;32m    522\u001b[0m     prepare \u001b[38;5;241m=\u001b[39m \u001b[38;5;28;01mTrue\u001b[39;00m\n",
      "File \u001b[1;32mc:\\ProgramData\\anaconda3\\Lib\\site-packages\\pydantic\\v1\\typing.py:66\u001b[0m, in \u001b[0;36mevaluate_forwardref\u001b[1;34m(type_, globalns, localns)\u001b[0m\n\u001b[0;32m     63\u001b[0m \u001b[38;5;28;01mdef\u001b[39;00m \u001b[38;5;21mevaluate_forwardref\u001b[39m(type_: ForwardRef, globalns: Any, localns: Any) \u001b[38;5;241m-\u001b[39m\u001b[38;5;241m>\u001b[39m Any:\n\u001b[0;32m     64\u001b[0m     \u001b[38;5;66;03m# Even though it is the right signature for python 3.9, mypy complains with\u001b[39;00m\n\u001b[0;32m     65\u001b[0m     \u001b[38;5;66;03m# `error: Too many arguments for \"_evaluate\" of \"ForwardRef\"` hence the cast...\u001b[39;00m\n\u001b[1;32m---> 66\u001b[0m     \u001b[38;5;28;01mreturn\u001b[39;00m cast(Any, type_)\u001b[38;5;241m.\u001b[39m_evaluate(globalns, localns, \u001b[38;5;28mset\u001b[39m())\n",
      "\u001b[1;31mTypeError\u001b[0m: ForwardRef._evaluate() missing 1 required keyword-only argument: 'recursive_guard'"
     ]
    }
   ],
   "source": [
    "import spacy\n",
    "from spacy.training.example import Example\n",
    "\n",
    "# Load a pretrained model\n",
    "nlp = spacy.load(\"en_core_web_sm\")\n",
    "\n",
    "# Get the Named Entity Recognizer\n",
    "ner = nlp.get_pipe(\"ner\")\n",
    "\n",
    "# Add new label\n",
    "ner.add_label(\"PRODUCT\")\n",
    "\n",
    "# Train the model\n",
    "for text, annotations in TRAIN_DATA:\n",
    "    doc = nlp.make_doc(text)\n",
    "    example = Example.from_dict(doc, annotations)\n",
    "    nlp.update([example])\n",
    "\n",
    "# Save the updated model\n",
    "nlp.to_disk(\"custom_ner_model\")\n",
    "\n",
    "# Test the new model\n",
    "nlp = spacy.load(\"custom_ner_model\")\n",
    "text = \"ChatGPT is a popular AI product developed by OpenAI.\"\n",
    "doc = nlp(text)\n",
    "print([(ent.text, ent.label_) for ent in doc.ents])\n"
   ]
  },
  {
   "cell_type": "markdown",
   "metadata": {},
   "source": [
    "✅ Output Example:"
   ]
  },
  {
   "cell_type": "markdown",
   "metadata": {},
   "source": [
    "✅ Key Observations:\n",
    "\n",
    "- ChatGPT is now correctly identified as a PRODUCT\n",
    "- OpenAI is detected as an ORGANIZATION\n"
   ]
  },
  {
   "cell_type": "markdown",
   "metadata": {},
   "source": [
    "## **📌 6. Mini Project: Extracting Entities from News Articles**\n",
    "\n",
    "**📌 Task:**\n",
    "\n",
    "1️⃣ Scrape a news article using BeautifulSoup\n",
    "\n",
    "2️⃣ Apply spaCy’s NER to extract people, organizations, and locations\n",
    "\n",
    "3️⃣ Store results in a Pandas DataFrame\n",
    "\n"
   ]
  },
  {
   "cell_type": "code",
   "execution_count": 15,
   "metadata": {},
   "outputs": [
    {
     "name": "stderr",
     "output_type": "stream",
     "text": [
      "[nltk_data] Downloading package punkt to\n",
      "[nltk_data]     C:\\Users\\DELL\\AppData\\Roaming\\nltk_data...\n",
      "[nltk_data]   Package punkt is already up-to-date!\n",
      "[nltk_data] Downloading package averaged_perceptron_tagger to\n",
      "[nltk_data]     C:\\Users\\DELL\\AppData\\Roaming\\nltk_data...\n",
      "[nltk_data]   Package averaged_perceptron_tagger is already up-to-\n",
      "[nltk_data]       date!\n",
      "[nltk_data] Downloading package maxent_ne_chunker to\n",
      "[nltk_data]     C:\\Users\\DELL\\AppData\\Roaming\\nltk_data...\n",
      "[nltk_data]   Package maxent_ne_chunker is already up-to-date!\n",
      "[nltk_data] Downloading package words to\n",
      "[nltk_data]     C:\\Users\\DELL\\AppData\\Roaming\\nltk_data...\n",
      "[nltk_data]   Package words is already up-to-date!\n"
     ]
    },
    {
     "ename": "LookupError",
     "evalue": "\n**********************************************************************\n  Resource \u001b[93mmaxent_ne_chunker_tab\u001b[0m not found.\n  Please use the NLTK Downloader to obtain the resource:\n\n  \u001b[31m>>> import nltk\n  >>> nltk.download('maxent_ne_chunker_tab')\n  \u001b[0m\n  For more information see: https://www.nltk.org/data.html\n\n  Attempted to load \u001b[93mchunkers/maxent_ne_chunker_tab/english_ace_multiclass/\u001b[0m\n\n  Searched in:\n    - 'C:\\\\Users\\\\DELL/nltk_data'\n    - 'c:\\\\ProgramData\\\\anaconda3\\\\nltk_data'\n    - 'c:\\\\ProgramData\\\\anaconda3\\\\share\\\\nltk_data'\n    - 'c:\\\\ProgramData\\\\anaconda3\\\\lib\\\\nltk_data'\n    - 'C:\\\\Users\\\\DELL\\\\AppData\\\\Roaming\\\\nltk_data'\n    - 'C:\\\\nltk_data'\n    - 'D:\\\\nltk_data'\n    - 'E:\\\\nltk_data'\n**********************************************************************\n",
     "output_type": "error",
     "traceback": [
      "\u001b[1;31m---------------------------------------------------------------------------\u001b[0m",
      "\u001b[1;31mLookupError\u001b[0m                               Traceback (most recent call last)",
      "Cell \u001b[1;32mIn[15], line 24\u001b[0m\n\u001b[0;32m     22\u001b[0m tokens \u001b[38;5;241m=\u001b[39m word_tokenize(article_text)\n\u001b[0;32m     23\u001b[0m pos_tags \u001b[38;5;241m=\u001b[39m pos_tag(tokens)\n\u001b[1;32m---> 24\u001b[0m ner_tree \u001b[38;5;241m=\u001b[39m ne_chunk(pos_tags)\n\u001b[0;32m     26\u001b[0m \u001b[38;5;66;03m# Extract entities\u001b[39;00m\n\u001b[0;32m     27\u001b[0m entities \u001b[38;5;241m=\u001b[39m []\n",
      "File \u001b[1;32m~\\AppData\\Roaming\\Python\\Python312\\site-packages\\nltk\\chunk\\__init__.py:192\u001b[0m, in \u001b[0;36mne_chunk\u001b[1;34m(tagged_tokens, binary)\u001b[0m\n\u001b[0;32m    190\u001b[0m     chunker \u001b[38;5;241m=\u001b[39m ne_chunker(fmt\u001b[38;5;241m=\u001b[39m\u001b[38;5;124m\"\u001b[39m\u001b[38;5;124mbinary\u001b[39m\u001b[38;5;124m\"\u001b[39m)\n\u001b[0;32m    191\u001b[0m \u001b[38;5;28;01melse\u001b[39;00m:\n\u001b[1;32m--> 192\u001b[0m     chunker \u001b[38;5;241m=\u001b[39m ne_chunker()\n\u001b[0;32m    193\u001b[0m \u001b[38;5;28;01mreturn\u001b[39;00m chunker\u001b[38;5;241m.\u001b[39mparse(tagged_tokens)\n",
      "File \u001b[1;32m~\\AppData\\Roaming\\Python\\Python312\\site-packages\\nltk\\chunk\\__init__.py:174\u001b[0m, in \u001b[0;36mne_chunker\u001b[1;34m(fmt)\u001b[0m\n\u001b[0;32m    170\u001b[0m \u001b[38;5;28;01mdef\u001b[39;00m \u001b[38;5;21mne_chunker\u001b[39m(fmt\u001b[38;5;241m=\u001b[39m\u001b[38;5;124m\"\u001b[39m\u001b[38;5;124mmulticlass\u001b[39m\u001b[38;5;124m\"\u001b[39m):\n\u001b[0;32m    171\u001b[0m \u001b[38;5;250m    \u001b[39m\u001b[38;5;124;03m\"\"\"\u001b[39;00m\n\u001b[0;32m    172\u001b[0m \u001b[38;5;124;03m    Load NLTK's currently recommended named entity chunker.\u001b[39;00m\n\u001b[0;32m    173\u001b[0m \u001b[38;5;124;03m    \"\"\"\u001b[39;00m\n\u001b[1;32m--> 174\u001b[0m     \u001b[38;5;28;01mreturn\u001b[39;00m Maxent_NE_Chunker(fmt)\n",
      "File \u001b[1;32m~\\AppData\\Roaming\\Python\\Python312\\site-packages\\nltk\\chunk\\named_entity.py:329\u001b[0m, in \u001b[0;36mMaxent_NE_Chunker.__init__\u001b[1;34m(self, fmt)\u001b[0m\n\u001b[0;32m    326\u001b[0m \u001b[38;5;28;01mfrom\u001b[39;00m \u001b[38;5;21;01mnltk\u001b[39;00m\u001b[38;5;21;01m.\u001b[39;00m\u001b[38;5;21;01mdata\u001b[39;00m \u001b[38;5;28;01mimport\u001b[39;00m find\n\u001b[0;32m    328\u001b[0m \u001b[38;5;28mself\u001b[39m\u001b[38;5;241m.\u001b[39m_fmt \u001b[38;5;241m=\u001b[39m fmt\n\u001b[1;32m--> 329\u001b[0m \u001b[38;5;28mself\u001b[39m\u001b[38;5;241m.\u001b[39m_tab_dir \u001b[38;5;241m=\u001b[39m find(\u001b[38;5;124mf\u001b[39m\u001b[38;5;124m\"\u001b[39m\u001b[38;5;124mchunkers/maxent_ne_chunker_tab/english_ace_\u001b[39m\u001b[38;5;132;01m{\u001b[39;00mfmt\u001b[38;5;132;01m}\u001b[39;00m\u001b[38;5;124m/\u001b[39m\u001b[38;5;124m\"\u001b[39m)\n\u001b[0;32m    330\u001b[0m \u001b[38;5;28mself\u001b[39m\u001b[38;5;241m.\u001b[39mload_params()\n",
      "File \u001b[1;32m~\\AppData\\Roaming\\Python\\Python312\\site-packages\\nltk\\data.py:579\u001b[0m, in \u001b[0;36mfind\u001b[1;34m(resource_name, paths)\u001b[0m\n\u001b[0;32m    577\u001b[0m sep \u001b[38;5;241m=\u001b[39m \u001b[38;5;124m\"\u001b[39m\u001b[38;5;124m*\u001b[39m\u001b[38;5;124m\"\u001b[39m \u001b[38;5;241m*\u001b[39m \u001b[38;5;241m70\u001b[39m\n\u001b[0;32m    578\u001b[0m resource_not_found \u001b[38;5;241m=\u001b[39m \u001b[38;5;124mf\u001b[39m\u001b[38;5;124m\"\u001b[39m\u001b[38;5;130;01m\\n\u001b[39;00m\u001b[38;5;132;01m{\u001b[39;00msep\u001b[38;5;132;01m}\u001b[39;00m\u001b[38;5;130;01m\\n\u001b[39;00m\u001b[38;5;132;01m{\u001b[39;00mmsg\u001b[38;5;132;01m}\u001b[39;00m\u001b[38;5;130;01m\\n\u001b[39;00m\u001b[38;5;132;01m{\u001b[39;00msep\u001b[38;5;132;01m}\u001b[39;00m\u001b[38;5;130;01m\\n\u001b[39;00m\u001b[38;5;124m\"\u001b[39m\n\u001b[1;32m--> 579\u001b[0m \u001b[38;5;28;01mraise\u001b[39;00m \u001b[38;5;167;01mLookupError\u001b[39;00m(resource_not_found)\n",
      "\u001b[1;31mLookupError\u001b[0m: \n**********************************************************************\n  Resource \u001b[93mmaxent_ne_chunker_tab\u001b[0m not found.\n  Please use the NLTK Downloader to obtain the resource:\n\n  \u001b[31m>>> import nltk\n  >>> nltk.download('maxent_ne_chunker_tab')\n  \u001b[0m\n  For more information see: https://www.nltk.org/data.html\n\n  Attempted to load \u001b[93mchunkers/maxent_ne_chunker_tab/english_ace_multiclass/\u001b[0m\n\n  Searched in:\n    - 'C:\\\\Users\\\\DELL/nltk_data'\n    - 'c:\\\\ProgramData\\\\anaconda3\\\\nltk_data'\n    - 'c:\\\\ProgramData\\\\anaconda3\\\\share\\\\nltk_data'\n    - 'c:\\\\ProgramData\\\\anaconda3\\\\lib\\\\nltk_data'\n    - 'C:\\\\Users\\\\DELL\\\\AppData\\\\Roaming\\\\nltk_data'\n    - 'C:\\\\nltk_data'\n    - 'D:\\\\nltk_data'\n    - 'E:\\\\nltk_data'\n**********************************************************************\n"
     ]
    }
   ],
   "source": [
    "import requests\n",
    "from bs4 import BeautifulSoup\n",
    "import pandas as pd\n",
    "import nltk\n",
    "from nltk import word_tokenize, pos_tag, ne_chunk\n",
    "\n",
    "# Download necessary NLTK resources\n",
    "nltk.download('punkt')\n",
    "nltk.download('averaged_perceptron_tagger')\n",
    "nltk.download('maxent_ne_chunker')\n",
    "nltk.download('words')\n",
    "\n",
    "# Step 1: Scrape a news article\n",
    "url = 'https://www.bbc.com/news/world-us-canada-59944889'  # Example URL\n",
    "response = requests.get(url)\n",
    "soup = BeautifulSoup(response.content, 'html.parser')\n",
    "\n",
    "# Extract the article text\n",
    "article_text = ' '.join([p.text for p in soup.find_all('p')])\n",
    "\n",
    "# Step 2: Apply NLTK’s NER\n",
    "tokens = word_tokenize(article_text)\n",
    "pos_tags = pos_tag(tokens)\n",
    "ner_tree = ne_chunk(pos_tags)\n",
    "\n",
    "# Extract entities\n",
    "entities = []\n",
    "for subtree in ner_tree:\n",
    "    if hasattr(subtree, 'label'):\n",
    "        entity_name = ' '.join([leaf[0] for leaf in subtree.leaves()])\n",
    "        entity_type = subtree.label()\n",
    "        if entity_type in ['PERSON', 'ORGANIZATION', 'GPE']:\n",
    "            entities.append((entity_name, entity_type))\n",
    "\n",
    "# Step 3: Store results in a Pandas DataFrame\n",
    "df = pd.DataFrame(entities, columns=['Entity', 'Label'])\n",
    "print(df)"
   ]
  },
  {
   "cell_type": "markdown",
   "metadata": {},
   "source": []
  },
  {
   "cell_type": "markdown",
   "metadata": {},
   "source": []
  }
 ],
 "metadata": {
  "kernelspec": {
   "display_name": "base",
   "language": "python",
   "name": "python3"
  },
  "language_info": {
   "codemirror_mode": {
    "name": "ipython",
    "version": 3
   },
   "file_extension": ".py",
   "mimetype": "text/x-python",
   "name": "python",
   "nbconvert_exporter": "python",
   "pygments_lexer": "ipython3",
   "version": "3.12.4"
  }
 },
 "nbformat": 4,
 "nbformat_minor": 2
}
